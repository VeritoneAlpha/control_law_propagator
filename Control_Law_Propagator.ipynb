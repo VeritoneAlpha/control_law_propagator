{
 "cells": [
  {
   "cell_type": "markdown",
   "metadata": {},
   "source": [
    "This is v1 of the control law propagator\n",
    "There will be three main modules:\n",
    "\n",
    "- 1) Propagator\n",
    "\n",
    "- 2) sliding window\n",
    "\n",
    "- 3) window filter"
   ]
  },
  {
   "cell_type": "code",
   "execution_count": 1,
   "metadata": {
    "collapsed": false
   },
   "outputs": [],
   "source": [
    "import numpy as np\n",
    "import scipy as sp\n",
    "import ode"
   ]
  },
  {
   "cell_type": "code",
   "execution_count": 45,
   "metadata": {
    "collapsed": true
   },
   "outputs": [],
   "source": [
    "# Inputs:\n",
    "q_0 = np.array([0,2])\n",
    "p_0 = np.array([1,4])\n",
    "u_0 = np.array([2])\n",
    "\n",
    "t_start = 10\n",
    "t_end =  11\n",
    "\n",
    "integrateTol = 10**-3\n",
    "integrateMaxIter = 40\n",
    "state_dim = 2\n",
    "Gamma = 1"
   ]
  },
  {
   "cell_type": "code",
   "execution_count": 46,
   "metadata": {
    "collapsed": false
   },
   "outputs": [
    {
     "data": {
      "text/plain": [
       "array([1., 1.])"
      ]
     },
     "execution_count": 46,
     "metadata": {},
     "output_type": "execute_result"
    }
   ],
   "source": [
    "np.ones(np.shape(q_0))"
   ]
  },
  {
   "cell_type": "code",
   "execution_count": 47,
   "metadata": {
    "collapsed": false
   },
   "outputs": [],
   "source": [
    "def H_T_p(q,p,u):\n",
    "    # for q-dot\n",
    "    return np.ones(np.shape(q))+q\n",
    "\n",
    "def H_T_q(q,p,u):\n",
    "    # for p-dot\n",
    "    return np.ones(np.shape(p))+p\n",
    "    \n",
    "def Q_u(q,p,u):\n",
    "    # for u-dot\n",
    "    return np.ones(np.shape(u))+u\n",
    "    "
   ]
  },
  {
   "cell_type": "code",
   "execution_count": 48,
   "metadata": {
    "collapsed": true
   },
   "outputs": [],
   "source": [
    "def rhs(t, qpu_vec, **kwargs):\n",
    "    '''\n",
    "    Input: qpu_vec\n",
    "    \n",
    "    Output: qpu_vec\n",
    "    '''\n",
    "    state_dim = kwargs['state_dim']\n",
    "    Gamma = kwargs['Gamma']\n",
    "    q = qpu_vec[:state_dim]\n",
    "    p = qpu_vec[state_dim:2*state_dim]\n",
    "    u = qpu_vec[2*state_dim:]\n",
    "    q_dot =  H_T_p(q,p,u)\n",
    "    p_dot = -1*H_T_q(q,p,u)\n",
    "    u_dot = -Gamma*Q_u(q,p,u)\n",
    "    return np.hstack([q_dot, p_dot, u_dot])"
   ]
  },
  {
   "cell_type": "code",
   "execution_count": 49,
   "metadata": {
    "collapsed": false
   },
   "outputs": [
    {
     "name": "stdout",
     "output_type": "stream",
     "text": [
      "[1 4 2]\n",
      "[1 4]\n",
      "[0 2 1 4 2]\n"
     ]
    }
   ],
   "source": [
    "print np.hstack([q_0, p_0, u_0])[2:]\n",
    "print np.hstack([q_0, p_0, u_0])[2:2*2]\n",
    "print np.hstack([q_0, p_0, u_0])"
   ]
  },
  {
   "cell_type": "code",
   "execution_count": 50,
   "metadata": {
    "collapsed": true
   },
   "outputs": [],
   "source": [
    "# call the ode to integrate the dynamic equations to get q, p, and u"
   ]
  },
  {
   "cell_type": "markdown",
   "metadata": {},
   "source": [
    "ODE takes as input:\n",
    "- RHS\n",
    "- initial condition\n",
    "- t_start and t_end for which you want your desired output values"
   ]
  },
  {
   "cell_type": "code",
   "execution_count": 51,
   "metadata": {
    "collapsed": false
   },
   "outputs": [],
   "source": [
    "qpu_vec = np.hstack([q_0, p_0, u_0])\n",
    "qpu_vec_i, t, failFlag, iter_i = ode.ode_rk23(rhs, t_start, t_end, qpu_vec, integrateTol, integrateMaxIter, state_dim=state_dim, Gamma = Gamma)"
   ]
  },
  {
   "cell_type": "code",
   "execution_count": 52,
   "metadata": {
    "collapsed": false
   },
   "outputs": [
    {
     "data": {
      "text/plain": [
       "array([ 1.71656809,  7.14970426, -0.26496265,  0.83759338,  0.10255603])"
      ]
     },
     "execution_count": 52,
     "metadata": {},
     "output_type": "execute_result"
    }
   ],
   "source": [
    "# only take last value\n",
    "qpu_vec_i[-1]"
   ]
  },
  {
   "cell_type": "code",
   "execution_count": 76,
   "metadata": {
    "collapsed": false
   },
   "outputs": [
    {
     "data": {
      "text/plain": [
       "[0, 10]"
      ]
     },
     "execution_count": 76,
     "metadata": {},
     "output_type": "execute_result"
    }
   ],
   "source": [
    "range(0,20,(20-0)/2)"
   ]
  },
  {
   "cell_type": "code",
   "execution_count": 198,
   "metadata": {
    "collapsed": false
   },
   "outputs": [
    {
     "name": "stdout",
     "output_type": "stream",
     "text": [
      "[0, 1, 2, 3, 4]\n"
     ]
    }
   ],
   "source": [
    "# inputs\n",
    "t_0 = 0\n",
    "T = 4\n",
    "K = 2\n",
    "# print range(t_0,T,(T-t_0)/(2*K))\n",
    "\n",
    "# end inputs\n",
    "qs=[]\n",
    "ps=[]\n",
    "us=[]\n",
    "qpu_vec = np.hstack([q_0, p_0, u_0])\n",
    "ts = range(t_0,T+1,(T-t_0)/(2*K)) # go until T+1 because last value will be used as starting point for next window\n",
    "print ts\n",
    "for i in range(len(ts)-1):\n",
    "    t_start, t_end = ts[i], ts[i+1]\n",
    "    qpu_vec_i, t, failFlag, iter_i = ode.ode_rk23(rhs, t_start, t_end, qpu_vec, integrateTol, integrateMaxIter, state_dim=state_dim, Gamma = Gamma)\n",
    "    qpu_vec = qpu_vec_i[-1] # only need the last value\n",
    "    if i == len(ts)-2 :\n",
    "        pass \n",
    "        # no need to append since weight = 0 for last value\n",
    "    else:\n",
    "        qs.append(qpu_vec[:state_dim])\n",
    "        ps.append(qpu_vec[state_dim:2*state_dim])\n",
    "        us.append(qpu_vec[2*state_dim:])\n",
    "        "
   ]
  },
  {
   "cell_type": "code",
   "execution_count": 199,
   "metadata": {
    "collapsed": false
   },
   "outputs": [
    {
     "data": {
      "text/plain": [
       "[array([1.71656809, 7.14970426]),\n",
       " array([ 6.37867051, 21.13601153]),\n",
       " array([19.03713547, 59.1114064 ])]"
      ]
     },
     "execution_count": 199,
     "metadata": {},
     "output_type": "execute_result"
    }
   ],
   "source": [
    "qs"
   ]
  },
  {
   "cell_type": "code",
   "execution_count": 200,
   "metadata": {
    "collapsed": false
   },
   "outputs": [
    {
     "data": {
      "text/plain": [
       "[array([-0.26496265,  0.83759338]),\n",
       " array([-0.72993435, -0.32483587]),\n",
       " array([-0.90081606, -0.75204015])]"
      ]
     },
     "execution_count": 200,
     "metadata": {},
     "output_type": "execute_result"
    }
   ],
   "source": [
    "ps"
   ]
  },
  {
   "cell_type": "code",
   "execution_count": 203,
   "metadata": {
    "collapsed": false
   },
   "outputs": [
    {
     "data": {
      "text/plain": [
       "[array([0.10255603]), array([-0.59490152]), array([-0.85122409])]"
      ]
     },
     "execution_count": 203,
     "metadata": {},
     "output_type": "execute_result"
    }
   ],
   "source": [
    "us"
   ]
  },
  {
   "cell_type": "code",
   "execution_count": 204,
   "metadata": {
    "collapsed": false
   },
   "outputs": [
    {
     "data": {
      "text/plain": [
       "array([ 53.4069695 , 162.22090851,  -0.96358004,  -0.90895009,\n",
       "        -0.94537005])"
      ]
     },
     "execution_count": 204,
     "metadata": {},
     "output_type": "execute_result"
    }
   ],
   "source": [
    "qpu_vec"
   ]
  },
  {
   "cell_type": "markdown",
   "metadata": {},
   "source": [
    "### Triangle window filter"
   ]
  },
  {
   "cell_type": "code",
   "execution_count": 155,
   "metadata": {
    "collapsed": false
   },
   "outputs": [
    {
     "name": "stdout",
     "output_type": "stream",
     "text": [
      "2\n"
     ]
    }
   ],
   "source": [
    "print K\n",
    "weights_0 = [float(i)/K for i in range(1,K+1)]  \n",
    "weights_1 = [2-(float(i)/K) for i in range(K+1,(2*K)+1)]\n",
    "# sanity check \n",
    "assert len(weights_0)==len(weights_1)\n",
    "weights = weights_0+weights_1"
   ]
  },
  {
   "cell_type": "code",
   "execution_count": 156,
   "metadata": {
    "collapsed": false
   },
   "outputs": [
    {
     "name": "stdout",
     "output_type": "stream",
     "text": [
      "[0.5, 1.0]\n",
      "[0.5, 0.0]\n"
     ]
    }
   ],
   "source": [
    "print weights_0\n",
    "print weights_1"
   ]
  },
  {
   "cell_type": "code",
   "execution_count": 211,
   "metadata": {
    "collapsed": false
   },
   "outputs": [
    {
     "name": "stdout",
     "output_type": "stream",
     "text": [
      "2.0\n",
      "[array([0.85828404, 3.57485213]), array([ 6.37867051, 21.13601153]), array([ 9.51856773, 29.5557032 ])]\n",
      "[array([0.42914202, 1.78742606]), array([ 3.18933526, 10.56800577]), array([ 4.75928387, 14.7778516 ])]\n",
      "[array([-0.13248132,  0.41879669]), array([-0.72993435, -0.32483587]), array([-0.45040803, -0.37602008])]\n",
      "[array([-0.06624066,  0.20939835]), array([-0.36496717, -0.16241794]), array([-0.22520402, -0.18801004])]\n",
      "[array([0.05127801]), array([-0.59490152]), array([-0.42561205])]\n",
      "[array([0.02563901]), array([-0.29745076]), array([-0.21280602])]\n"
     ]
    }
   ],
   "source": [
    "weights_total = sum(weights[:-1])\n",
    "print weights_total\n",
    "\n",
    "for vec in [qs, ps, us]:\n",
    "    qpus_weighted = [val*w for val,w in zip(vec, weights[:-1])]\n",
    "    print qpus_weighted\n",
    "    qpus_normalized = [vec/weights_total for vec in qpus_weighted]\n",
    "    print qpus_normalized\n",
    "#     print qpus_weighted/weights_total\n",
    "\n",
    "#TODO: still need a way to package all the qs, ps, us into one object to return "
   ]
  },
  {
   "cell_type": "code",
   "execution_count": null,
   "metadata": {
    "collapsed": true
   },
   "outputs": [],
   "source": []
  }
 ],
 "metadata": {
  "kernelspec": {
   "display_name": "Python 2",
   "language": "python",
   "name": "python2"
  },
  "language_info": {
   "codemirror_mode": {
    "name": "ipython",
    "version": 2
   },
   "file_extension": ".py",
   "mimetype": "text/x-python",
   "name": "python",
   "nbconvert_exporter": "python",
   "pygments_lexer": "ipython2",
   "version": "2.7.12rc1"
  }
 },
 "nbformat": 4,
 "nbformat_minor": 1
}
