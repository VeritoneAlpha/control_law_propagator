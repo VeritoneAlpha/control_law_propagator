{
 "cells": [
  {
   "cell_type": "markdown",
   "metadata": {},
   "source": [
    "This is the prototype of the using the checkAgent class to check Agents\n"
   ]
  },
  {
   "cell_type": "code",
   "execution_count": 1,
   "metadata": {
    "collapsed": false
   },
   "outputs": [
    {
     "data": {
      "text/html": [
       "<style>.container { width:100% !important; }</style>"
      ],
      "text/plain": [
       "<IPython.core.display.HTML object>"
      ]
     },
     "metadata": {},
     "output_type": "display_data"
    }
   ],
   "source": [
    "from IPython.core.display import display, HTML\n",
    "display(HTML(\"<style>.container { width:100% !important; }</style>\"))"
   ]
  },
  {
   "cell_type": "code",
   "execution_count": 2,
   "metadata": {
    "collapsed": false
   },
   "outputs": [],
   "source": [
    "import numpy as np\n",
    "import scipy as sp\n",
    "import ode\n",
    "from numerical_propagator import *\n",
    "from synchronizer import *\n",
    "from blackboard import *\n",
    "from batteryAgent import *\n",
    "from agentChecker import *"
   ]
  },
  {
   "cell_type": "markdown",
   "metadata": {},
   "source": [
    "### checkAgent"
   ]
  },
  {
   "cell_type": "code",
   "execution_count": 3,
   "metadata": {
    "collapsed": false
   },
   "outputs": [],
   "source": [
    "# fake data\n",
    "q_1_0=1\n",
    "q_B_0=1\n",
    "\n",
    "p_1_0 = 0\n",
    "p_B_0 = 0\n",
    "\n",
    "q_s = np.concatenate([np.array([q_1_0]),np.array([q_B_0])])\n",
    "p_l = np.concatenate([np.array([p_1_0]),np.array([p_B_0])])\n",
    "q_s_dot = np.concatenate([np.array([q_1_0]),np.array([q_B_0])])\n",
    "\n",
    "u_B = 1\n",
    "\n",
    "v_c_u_0=1\n",
    "v_c_1_0=1\n",
    "\n",
    "c_1=1\n",
    "R_0=1\n",
    "R_1=1\n",
    "\n",
    "v_a=1\n",
    "Q_0=100\n",
    "beta=1000\n",
    "v_N=1\n",
    "\n",
    "u_vec = np.array([u_B])\n",
    "lambda_l = np.ones((1,len(q_s))) # must have dimension [1D x state_dim]\n",
    "\n",
    "# for now, create mean field vectors, and fill in state for other agents with zero.\n",
    "\n",
    "## building 1 \n",
    "# states\n",
    "qfb1 = 0\n",
    "qab1 = 0\n",
    "qwb1 = 0\n",
    "phil1b1 = 0\n",
    "# controls\n",
    "u1b1 = 0\n",
    "u2 = 0\n",
    "\n",
    "## building 2\n",
    "# states\n",
    "qfb2 = 0\n",
    "qab2 = 0\n",
    "qwb2 = 0\n",
    "phil1b2 = 0\n",
    "# controls\n",
    "u1b2 = 0\n",
    "\n",
    "# mean field vectors\n",
    "q_1 = q_1_0\n",
    "q_B = q_B_0\n",
    "q_mf = np.array([q_1, q_B, qfb1, qab1, qwb1, phil1b1, qfb2, qab2, qwb2, phil1b2])\n",
    "u_mf = np.array([u_B, u1b1, u2, u1b2])\n",
    "# set equal to p_l for now, since we are using fake data \n",
    "p_mf = p_l\n",
    "\n",
    "# for extracting values\n",
    "q_1  = q_mf[0]\n",
    "q_B  = q_mf[1]\n",
    "qfb1  = q_mf[2]\n",
    "qab1  = q_mf[3]\n",
    "qwb1  = q_mf[4]\n",
    "phil1b1  = q_mf[5]\n",
    "qfb2  = q_mf[6]\n",
    "qab2  = q_mf[7]\n",
    "qwb2  = q_mf[8]\n",
    "phil1b2  = q_mf[9]\n",
    "\n",
    "u_B = u_mf[0]\n",
    "u1b1 = u_mf[1]\n",
    "u2 = u_mf[2]\n",
    "u1b2 = u_mf[3]\n",
    "\n",
    "u_s = np.array([u_B])\n",
    "qp_vec = np.concatenate([q_s, p_l, p_mf])\n",
    "bb = Blackboard()\n",
    "bat = batteryAgent(bb, state_indices=[1,2], control_indices=[1], q_1_0=q_1_0, q_B_0=q_B_0, v_c_u_0=v_c_u_0, v_c_1_0=v_c_1_0, c_1=c_1, R_0=R_0, R_1=R_1, v_a=v_a, Q_0=Q_0, beta=beta, v_N=v_N)"
   ]
  },
  {
   "cell_type": "code",
   "execution_count": 4,
   "metadata": {
    "collapsed": false
   },
   "outputs": [],
   "source": [
    "ac = AgentChecker(bat)"
   ]
  },
  {
   "cell_type": "code",
   "execution_count": 5,
   "metadata": {
    "collapsed": false
   },
   "outputs": [
    {
     "data": {
      "text/plain": [
       "array([0., 0.])"
      ]
     },
     "execution_count": 5,
     "metadata": {},
     "output_type": "execute_result"
    }
   ],
   "source": [
    "bat.q_s_0"
   ]
  },
  {
   "cell_type": "code",
   "execution_count": 6,
   "metadata": {
    "collapsed": false
   },
   "outputs": [],
   "source": [
    "# ac.check_All()"
   ]
  },
  {
   "cell_type": "code",
   "execution_count": 7,
   "metadata": {
    "collapsed": true
   },
   "outputs": [],
   "source": [
    "# check if it exists, and if so, then check if it's a callable and if either one is not true, then report it"
   ]
  },
  {
   "cell_type": "code",
   "execution_count": 8,
   "metadata": {
    "collapsed": false
   },
   "outputs": [
    {
     "data": {
      "text/plain": [
       "False"
      ]
     },
     "execution_count": 8,
     "metadata": {},
     "output_type": "execute_result"
    }
   ],
   "source": [
    "isinstance(3, list)"
   ]
  },
  {
   "cell_type": "code",
   "execution_count": 9,
   "metadata": {
    "collapsed": false
   },
   "outputs": [
    {
     "data": {
      "text/plain": [
       "True"
      ]
     },
     "execution_count": 9,
     "metadata": {},
     "output_type": "execute_result"
    }
   ],
   "source": [
    "np.shape(3) == ()"
   ]
  },
  {
   "cell_type": "code",
   "execution_count": 10,
   "metadata": {
    "collapsed": false
   },
   "outputs": [
    {
     "data": {
      "text/plain": [
       "False"
      ]
     },
     "execution_count": 10,
     "metadata": {},
     "output_type": "execute_result"
    }
   ],
   "source": [
    "isinstance(np.array(3), list)"
   ]
  },
  {
   "cell_type": "code",
   "execution_count": 20,
   "metadata": {
    "collapsed": false
   },
   "outputs": [],
   "source": [
    "\n",
    "list_of_methods=['L_l'] \n",
    "# , 'L_l_q_dot','L_mf_q_dot','H_l','H_l_nou','H_l_u','q_rhs_H_l_nou',\n",
    "#                  'p_rhs_H_l_nou','q_rhs_H_l_u','p_rhs_H_l_u','q_rhs_H_l','p_rhs_H_l',\n",
    "#                  'qp_rhs_H_l', 'H_mf_nou','H_mf_u','q_rhs_H_mf_u','p_rhs_H_mf_u','q_rhs_H_mf_nou',\n",
    "#                  'p_rhs_H_mf_nou','p_rhs_H_mf','q_rhs_H_mf','qp_rhs_H_mf','qp_rhs','u_rhs']\n",
    "inputs_dict = {'L_l': (q_s, q_s_dot, u_s), \n",
    "         }\n",
    "\n",
    "outputs_dict = {'L_l':[]}\n",
    "\n"
   ]
  },
  {
   "cell_type": "code",
   "execution_count": 21,
   "metadata": {
    "collapsed": false
   },
   "outputs": [
    {
     "data": {
      "text/plain": [
       "(3,)"
      ]
     },
     "execution_count": 21,
     "metadata": {},
     "output_type": "execute_result"
    }
   ],
   "source": [
    "np.shape(inputs)\n"
   ]
  },
  {
   "cell_type": "code",
   "execution_count": 22,
   "metadata": {
    "collapsed": false
   },
   "outputs": [
    {
     "name": "stdout",
     "output_type": "stream",
     "text": [
      "> /Users/jordan/Documents/Atigeo/cdi/control_law_propagator/batteryAgent.py(171)L_l()\n",
      "-> return  L_l\n",
      "(Pdb) exit()\n"
     ]
    },
    {
     "ename": "BdbQuit",
     "evalue": "",
     "output_type": "error",
     "traceback": [
      "\u001b[0;31m---------------------------------------------------------------------------\u001b[0m",
      "\u001b[0;31mBdbQuit\u001b[0m                                   Traceback (most recent call last)",
      "\u001b[0;32m<ipython-input-22-ad94ce68c2c6>\u001b[0m in \u001b[0;36m<module>\u001b[0;34m()\u001b[0m\n\u001b[1;32m      7\u001b[0m     \u001b[0;31m# call the method using the fake inputs but with correct dimensions\u001b[0m\u001b[0;34m\u001b[0m\u001b[0;34m\u001b[0m\u001b[0m\n\u001b[1;32m      8\u001b[0m     \u001b[0minputs\u001b[0m \u001b[0;34m=\u001b[0m \u001b[0minputs_dict\u001b[0m\u001b[0;34m[\u001b[0m\u001b[0;34m'L_l'\u001b[0m\u001b[0;34m]\u001b[0m\u001b[0;34m\u001b[0m\u001b[0m\n\u001b[0;32m----> 9\u001b[0;31m     \u001b[0mresult\u001b[0m \u001b[0;34m=\u001b[0m \u001b[0mmethod_to_call\u001b[0m\u001b[0;34m(\u001b[0m\u001b[0;34m*\u001b[0m\u001b[0minputs\u001b[0m\u001b[0;34m)\u001b[0m\u001b[0;34m\u001b[0m\u001b[0m\n\u001b[0m\u001b[1;32m     10\u001b[0m \u001b[0;34m\u001b[0m\u001b[0m\n\u001b[1;32m     11\u001b[0m     \u001b[0;31m# check the output dimensions\u001b[0m\u001b[0;34m\u001b[0m\u001b[0;34m\u001b[0m\u001b[0m\n",
      "\u001b[0;32m/Users/jordan/Documents/Atigeo/cdi/control_law_propagator/batteryAgent.py\u001b[0m in \u001b[0;36mL_l\u001b[0;34m(self, q_s, q_s_dot, u_s)\u001b[0m\n\u001b[1;32m    169\u001b[0m         \u001b[0mL_l\u001b[0m \u001b[0;34m=\u001b[0m \u001b[0;34m-\u001b[0m\u001b[0mV_c_1\u001b[0m \u001b[0;34m-\u001b[0m \u001b[0mV_c_u\u001b[0m \u001b[0;34m+\u001b[0m \u001b[0mD_R_0\u001b[0m \u001b[0;34m+\u001b[0m \u001b[0mD_R_1\u001b[0m \u001b[0;34m+\u001b[0m \u001b[0mF_B\u001b[0m \u001b[0;34m-\u001b[0m \u001b[0mF_B_out\u001b[0m\u001b[0;34m\u001b[0m\u001b[0m\n\u001b[1;32m    170\u001b[0m         \u001b[0;32mimport\u001b[0m \u001b[0mpdb\u001b[0m\u001b[0;34m;\u001b[0m \u001b[0mpdb\u001b[0m\u001b[0;34m.\u001b[0m\u001b[0mset_trace\u001b[0m\u001b[0;34m(\u001b[0m\u001b[0;34m)\u001b[0m\u001b[0;34m\u001b[0m\u001b[0m\n\u001b[0;32m--> 171\u001b[0;31m         \u001b[0;32mreturn\u001b[0m  \u001b[0mL_l\u001b[0m\u001b[0;34m\u001b[0m\u001b[0m\n\u001b[0m\u001b[1;32m    172\u001b[0m \u001b[0;34m\u001b[0m\u001b[0m\n\u001b[1;32m    173\u001b[0m     \u001b[0;32mdef\u001b[0m \u001b[0mL_l_q_dot\u001b[0m\u001b[0;34m(\u001b[0m\u001b[0mself\u001b[0m\u001b[0;34m,\u001b[0m \u001b[0mq_s\u001b[0m\u001b[0;34m,\u001b[0m \u001b[0mq_s_dot\u001b[0m\u001b[0;34m,\u001b[0m \u001b[0mu_s\u001b[0m\u001b[0;34m)\u001b[0m\u001b[0;34m:\u001b[0m\u001b[0;34m\u001b[0m\u001b[0m\n",
      "\u001b[0;32m/Users/jordan/Documents/Atigeo/cdi/control_law_propagator/batteryAgent.py\u001b[0m in \u001b[0;36mL_l\u001b[0;34m(self, q_s, q_s_dot, u_s)\u001b[0m\n\u001b[1;32m    169\u001b[0m         \u001b[0mL_l\u001b[0m \u001b[0;34m=\u001b[0m \u001b[0;34m-\u001b[0m\u001b[0mV_c_1\u001b[0m \u001b[0;34m-\u001b[0m \u001b[0mV_c_u\u001b[0m \u001b[0;34m+\u001b[0m \u001b[0mD_R_0\u001b[0m \u001b[0;34m+\u001b[0m \u001b[0mD_R_1\u001b[0m \u001b[0;34m+\u001b[0m \u001b[0mF_B\u001b[0m \u001b[0;34m-\u001b[0m \u001b[0mF_B_out\u001b[0m\u001b[0;34m\u001b[0m\u001b[0m\n\u001b[1;32m    170\u001b[0m         \u001b[0;32mimport\u001b[0m \u001b[0mpdb\u001b[0m\u001b[0;34m;\u001b[0m \u001b[0mpdb\u001b[0m\u001b[0;34m.\u001b[0m\u001b[0mset_trace\u001b[0m\u001b[0;34m(\u001b[0m\u001b[0;34m)\u001b[0m\u001b[0;34m\u001b[0m\u001b[0m\n\u001b[0;32m--> 171\u001b[0;31m         \u001b[0;32mreturn\u001b[0m  \u001b[0mL_l\u001b[0m\u001b[0;34m\u001b[0m\u001b[0m\n\u001b[0m\u001b[1;32m    172\u001b[0m \u001b[0;34m\u001b[0m\u001b[0m\n\u001b[1;32m    173\u001b[0m     \u001b[0;32mdef\u001b[0m \u001b[0mL_l_q_dot\u001b[0m\u001b[0;34m(\u001b[0m\u001b[0mself\u001b[0m\u001b[0;34m,\u001b[0m \u001b[0mq_s\u001b[0m\u001b[0;34m,\u001b[0m \u001b[0mq_s_dot\u001b[0m\u001b[0;34m,\u001b[0m \u001b[0mu_s\u001b[0m\u001b[0;34m)\u001b[0m\u001b[0;34m:\u001b[0m\u001b[0;34m\u001b[0m\u001b[0m\n",
      "\u001b[0;32m/Library/Frameworks/Python.framework/Versions/2.7/lib/python2.7/bdb.pyc\u001b[0m in \u001b[0;36mtrace_dispatch\u001b[0;34m(self, frame, event, arg)\u001b[0m\n\u001b[1;32m     47\u001b[0m             \u001b[0;32mreturn\u001b[0m \u001b[0;31m# None\u001b[0m\u001b[0;34m\u001b[0m\u001b[0m\n\u001b[1;32m     48\u001b[0m         \u001b[0;32mif\u001b[0m \u001b[0mevent\u001b[0m \u001b[0;34m==\u001b[0m \u001b[0;34m'line'\u001b[0m\u001b[0;34m:\u001b[0m\u001b[0;34m\u001b[0m\u001b[0m\n\u001b[0;32m---> 49\u001b[0;31m             \u001b[0;32mreturn\u001b[0m \u001b[0mself\u001b[0m\u001b[0;34m.\u001b[0m\u001b[0mdispatch_line\u001b[0m\u001b[0;34m(\u001b[0m\u001b[0mframe\u001b[0m\u001b[0;34m)\u001b[0m\u001b[0;34m\u001b[0m\u001b[0m\n\u001b[0m\u001b[1;32m     50\u001b[0m         \u001b[0;32mif\u001b[0m \u001b[0mevent\u001b[0m \u001b[0;34m==\u001b[0m \u001b[0;34m'call'\u001b[0m\u001b[0;34m:\u001b[0m\u001b[0;34m\u001b[0m\u001b[0m\n\u001b[1;32m     51\u001b[0m             \u001b[0;32mreturn\u001b[0m \u001b[0mself\u001b[0m\u001b[0;34m.\u001b[0m\u001b[0mdispatch_call\u001b[0m\u001b[0;34m(\u001b[0m\u001b[0mframe\u001b[0m\u001b[0;34m,\u001b[0m \u001b[0marg\u001b[0m\u001b[0;34m)\u001b[0m\u001b[0;34m\u001b[0m\u001b[0m\n",
      "\u001b[0;32m/Library/Frameworks/Python.framework/Versions/2.7/lib/python2.7/bdb.pyc\u001b[0m in \u001b[0;36mdispatch_line\u001b[0;34m(self, frame)\u001b[0m\n\u001b[1;32m     66\u001b[0m         \u001b[0;32mif\u001b[0m \u001b[0mself\u001b[0m\u001b[0;34m.\u001b[0m\u001b[0mstop_here\u001b[0m\u001b[0;34m(\u001b[0m\u001b[0mframe\u001b[0m\u001b[0;34m)\u001b[0m \u001b[0;32mor\u001b[0m \u001b[0mself\u001b[0m\u001b[0;34m.\u001b[0m\u001b[0mbreak_here\u001b[0m\u001b[0;34m(\u001b[0m\u001b[0mframe\u001b[0m\u001b[0;34m)\u001b[0m\u001b[0;34m:\u001b[0m\u001b[0;34m\u001b[0m\u001b[0m\n\u001b[1;32m     67\u001b[0m             \u001b[0mself\u001b[0m\u001b[0;34m.\u001b[0m\u001b[0muser_line\u001b[0m\u001b[0;34m(\u001b[0m\u001b[0mframe\u001b[0m\u001b[0;34m)\u001b[0m\u001b[0;34m\u001b[0m\u001b[0m\n\u001b[0;32m---> 68\u001b[0;31m             \u001b[0;32mif\u001b[0m \u001b[0mself\u001b[0m\u001b[0;34m.\u001b[0m\u001b[0mquitting\u001b[0m\u001b[0;34m:\u001b[0m \u001b[0;32mraise\u001b[0m \u001b[0mBdbQuit\u001b[0m\u001b[0;34m\u001b[0m\u001b[0m\n\u001b[0m\u001b[1;32m     69\u001b[0m         \u001b[0;32mreturn\u001b[0m \u001b[0mself\u001b[0m\u001b[0;34m.\u001b[0m\u001b[0mtrace_dispatch\u001b[0m\u001b[0;34m\u001b[0m\u001b[0m\n\u001b[1;32m     70\u001b[0m \u001b[0;34m\u001b[0m\u001b[0m\n",
      "\u001b[0;31mBdbQuit\u001b[0m: "
     ]
    }
   ],
   "source": [
    "for method in list_of_methods:\n",
    "    # check existence\n",
    "    if method not in dir(bat):\n",
    "        existence = False\n",
    "    # get the method\n",
    "    method_to_call = getattr(bat, 'L_l')\n",
    "    # call the method using the fake inputs but with correct dimensions\n",
    "    inputs = inputs_dict['L_l']        \n",
    "    result = method_to_call(*inputs)\n",
    "    \n",
    "    # check the output dimensions\n",
    "    outputs = outputs_dict['L_l']\n",
    "    if np.shape(result) != np.shape(outputs):\n",
    "        outputs = False\n",
    "    \n",
    "    return_value = (existence, inputs, outputs)\n",
    "    \n",
    "    \n",
    "    "
   ]
  },
  {
   "cell_type": "code",
   "execution_count": 13,
   "metadata": {
    "collapsed": false
   },
   "outputs": [
    {
     "data": {
      "text/plain": [
       "1.5"
      ]
     },
     "execution_count": 13,
     "metadata": {},
     "output_type": "execute_result"
    }
   ],
   "source": [
    "result"
   ]
  },
  {
   "cell_type": "code",
   "execution_count": 14,
   "metadata": {
    "collapsed": true
   },
   "outputs": [],
   "source": [
    "args=(1,2,3)\n",
    "\n",
    "def mymethod(a,b,c):\n",
    "    return 2"
   ]
  },
  {
   "cell_type": "code",
   "execution_count": 15,
   "metadata": {
    "collapsed": false
   },
   "outputs": [
    {
     "data": {
      "text/plain": [
       "2"
      ]
     },
     "execution_count": 15,
     "metadata": {},
     "output_type": "execute_result"
    }
   ],
   "source": [
    "mymethod(*args)"
   ]
  },
  {
   "cell_type": "code",
   "execution_count": null,
   "metadata": {
    "collapsed": true
   },
   "outputs": [],
   "source": []
  }
 ],
 "metadata": {
  "kernelspec": {
   "display_name": "Python 2",
   "language": "python",
   "name": "python2"
  },
  "language_info": {
   "codemirror_mode": {
    "name": "ipython",
    "version": 2
   },
   "file_extension": ".py",
   "mimetype": "text/x-python",
   "name": "python",
   "nbconvert_exporter": "python",
   "pygments_lexer": "ipython2",
   "version": "2.7.12rc1"
  }
 },
 "nbformat": 4,
 "nbformat_minor": 1
}
