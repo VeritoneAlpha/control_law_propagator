{
 "cells": [
  {
   "cell_type": "markdown",
   "metadata": {},
   "source": [
    "This is the prototype of the Mean Field\n",
    "\n",
    "There will be three main modules:\n",
    "\n",
    "- 1) Agent\n",
    "\n",
    "- 2) MeanField\n",
    "\n",
    "- 3) BlackBoard"
   ]
  },
  {
   "cell_type": "code",
   "execution_count": 30,
   "metadata": {
    "collapsed": false
   },
   "outputs": [
    {
     "data": {
      "text/html": [
       "<style>.container { width:100% !important; }</style>"
      ],
      "text/plain": [
       "<IPython.core.display.HTML object>"
      ]
     },
     "metadata": {},
     "output_type": "display_data"
    }
   ],
   "source": [
    "from IPython.core.display import display, HTML\n",
    "display(HTML(\"<style>.container { width:100% !important; }</style>\"))"
   ]
  },
  {
   "cell_type": "code",
   "execution_count": 31,
   "metadata": {
    "collapsed": false
   },
   "outputs": [],
   "source": [
    "import numpy as np\n",
    "import scipy as sp\n",
    "import ode\n",
    "from numerical_propagator import *\n",
    "from synchronizer import *\n",
    "from blackboard import *\n",
    "from batteryAgent import *"
   ]
  },
  {
   "cell_type": "markdown",
   "metadata": {},
   "source": [
    "### batteryAgent"
   ]
  },
  {
   "cell_type": "markdown",
   "metadata": {},
   "source": [
    "states: \n",
    "\n",
    "state 1: $ q_1 $\n",
    "\n",
    "state 2: $ q_B $\n",
    "\n",
    "controls:\n",
    "\n",
    "$u_B$\n"
   ]
  },
  {
   "cell_type": "code",
   "execution_count": 32,
   "metadata": {
    "collapsed": false
   },
   "outputs": [],
   "source": [
    "# fake data\n",
    "q_1_0=1\n",
    "q_B_0=1\n",
    "\n",
    "p_1_0 = 0\n",
    "p_B_0 = 0\n",
    "\n",
    "q_s = np.concatenate([np.array([q_1_0]),np.array([q_B_0])])\n",
    "p_l = np.concatenate([np.array([p_1_0]),np.array([p_B_0])])\n",
    "\n",
    "u_B = 1\n",
    "\n",
    "v_c_u_0=1\n",
    "v_c_1_0=1\n",
    "\n",
    "c_1=1\n",
    "R_0=1\n",
    "R_1=1\n",
    "\n",
    "v_a=1\n",
    "Q_0=100\n",
    "beta=1000\n",
    "v_N=1\n",
    "\n",
    "qp_vec = np.concatenate([q_s, p_l])\n",
    "u_vec = np.array([u_B])\n",
    "\n",
    "# for now, create mean field vectors, and fill in state for other agents with zero.\n",
    "\n",
    "## building 1 \n",
    "# states\n",
    "qfb1 = 0\n",
    "qab1 = 0\n",
    "qwb1 = 0\n",
    "phil1b1 = 0\n",
    "# controls\n",
    "u1b1 = 0\n",
    "u2 = 0\n",
    "\n",
    "## building 2\n",
    "# states\n",
    "qfb2 = 0\n",
    "qab2 = 0\n",
    "qwb2 = 0\n",
    "phil1b2 = 0\n",
    "# controls\n",
    "u1b2 = 0\n",
    "\n",
    "# mean field vectors\n",
    "\n",
    "q_mf = \n",
    "u_mf = "
   ]
  },
  {
   "cell_type": "code",
   "execution_count": 33,
   "metadata": {
    "collapsed": true
   },
   "outputs": [],
   "source": [
    "bb = Blackboard()"
   ]
  },
  {
   "cell_type": "code",
   "execution_count": 5,
   "metadata": {
    "collapsed": false
   },
   "outputs": [],
   "source": [
    "bat = batteryAgent(bb, state_indices=[1,2], control_indices=[1], q_1_0=q_1_0, q_B_0=q_B_0, v_c_u_0=v_c_u_0, v_c_1_0=v_c_1_0, c_1=c_1, R_0=R_0, R_1=R_1, v_a=v_a, Q_0=Q_0, beta=beta, v_N=v_N)"
   ]
  },
  {
   "cell_type": "code",
   "execution_count": 6,
   "metadata": {
    "collapsed": false
   },
   "outputs": [
    {
     "data": {
      "text/plain": [
       "array([-1.5])"
      ]
     },
     "execution_count": 6,
     "metadata": {},
     "output_type": "execute_result"
    }
   ],
   "source": [
    "bat.L_l(bat.q_s_0, bat.q_s_dot, bat.u_s_0)"
   ]
  },
  {
   "cell_type": "code",
   "execution_count": 7,
   "metadata": {
    "collapsed": false
   },
   "outputs": [
    {
     "data": {
      "text/plain": [
       "array([0., 0.])"
      ]
     },
     "execution_count": 7,
     "metadata": {},
     "output_type": "execute_result"
    }
   ],
   "source": [
    "bat.L_l_q_dot(bat.q_s_0, bat.q_s_dot, bat.u_s_0)"
   ]
  },
  {
   "cell_type": "code",
   "execution_count": 8,
   "metadata": {
    "collapsed": false
   },
   "outputs": [
    {
     "data": {
      "text/plain": [
       "-115894.21082303333"
      ]
     },
     "execution_count": 8,
     "metadata": {},
     "output_type": "execute_result"
    }
   ],
   "source": [
    "bat.H_l(1,233,3,43,5,3,49,59,93,93,4,5,3,21,2,3)"
   ]
  },
  {
   "cell_type": "markdown",
   "metadata": {},
   "source": [
    "Test q_rhs_H_l_nou, and p_rhs_H_l_nou"
   ]
  },
  {
   "cell_type": "code",
   "execution_count": 9,
   "metadata": {
    "collapsed": false
   },
   "outputs": [
    {
     "data": {
      "text/plain": [
       "array([ 9, 10])"
      ]
     },
     "execution_count": 9,
     "metadata": {},
     "output_type": "execute_result"
    }
   ],
   "source": [
    "np.concatenate([np.array([9]),np.array([10])])"
   ]
  },
  {
   "cell_type": "code",
   "execution_count": 10,
   "metadata": {
    "collapsed": false
   },
   "outputs": [
    {
     "data": {
      "text/plain": [
       "array([ 58, -54])"
      ]
     },
     "execution_count": 10,
     "metadata": {},
     "output_type": "execute_result"
    }
   ],
   "source": [
    "bat.q_rhs_H_l_nou(1,233,3,43,5,3,49,59,93,93,4,5,3,21,2)"
   ]
  },
  {
   "cell_type": "code",
   "execution_count": 11,
   "metadata": {
    "collapsed": false
   },
   "outputs": [
    {
     "data": {
      "text/plain": [
       "array([-1,  0])"
      ]
     },
     "execution_count": 11,
     "metadata": {},
     "output_type": "execute_result"
    }
   ],
   "source": [
    "bat.p_rhs_H_l_nou(1,233,3,43,5,3,49,59,93,93,4,5,3,21,2)"
   ]
  },
  {
   "cell_type": "code",
   "execution_count": 12,
   "metadata": {
    "collapsed": false
   },
   "outputs": [
    {
     "data": {
      "text/plain": [
       "array([[  0, 230]])"
      ]
     },
     "execution_count": 12,
     "metadata": {},
     "output_type": "execute_result"
    }
   ],
   "source": [
    "bat.q_rhs_H_l_u(1,233,3,43,5,3,49,59,93,93,4,5,3,21,2)"
   ]
  },
  {
   "cell_type": "code",
   "execution_count": 13,
   "metadata": {
    "collapsed": false
   },
   "outputs": [
    {
     "data": {
      "text/plain": [
       "array([[0, 0]])"
      ]
     },
     "execution_count": 13,
     "metadata": {},
     "output_type": "execute_result"
    }
   ],
   "source": [
    "bat.p_rhs_H_l_u(1,233,3,43,5,3,49,59,93,93,4,5,3,21,2)"
   ]
  },
  {
   "cell_type": "code",
   "execution_count": 14,
   "metadata": {
    "collapsed": false
   },
   "outputs": [
    {
     "data": {
      "text/plain": [
       "array([ 92, 862])"
      ]
     },
     "execution_count": 14,
     "metadata": {},
     "output_type": "execute_result"
    }
   ],
   "source": [
    "bat.q_rhs_H_l(1,233,3,43,5,3,49,59,93,93,4,5,3,21,2,8)"
   ]
  },
  {
   "cell_type": "code",
   "execution_count": 15,
   "metadata": {
    "collapsed": false
   },
   "outputs": [
    {
     "data": {
      "text/plain": [
       "array([-11,  10])"
      ]
     },
     "execution_count": 15,
     "metadata": {},
     "output_type": "execute_result"
    }
   ],
   "source": [
    "bat.p_rhs_H_l(1,233,3,43,5,3,49,59,93,93,4,5,3,21,2,8)"
   ]
  },
  {
   "cell_type": "code",
   "execution_count": 16,
   "metadata": {
    "collapsed": false
   },
   "outputs": [
    {
     "data": {
      "text/plain": [
       "array([ 92, 859, -11,  10])"
      ]
     },
     "execution_count": 16,
     "metadata": {},
     "output_type": "execute_result"
    }
   ],
   "source": [
    "bat.qp_rhs_H_l(1,233,3,43,5,3,49,59,93,93,4,5,3,21,2,3)"
   ]
  },
  {
   "cell_type": "code",
   "execution_count": 17,
   "metadata": {
    "collapsed": false
   },
   "outputs": [
    {
     "data": {
      "text/plain": [
       "array([[0, 0]])"
      ]
     },
     "execution_count": 17,
     "metadata": {},
     "output_type": "execute_result"
    }
   ],
   "source": [
    "bat.q_rhs_H_mf_u(2,3,4,1, 2,3,4,1, 2,3,4,1, 2,3,4)"
   ]
  },
  {
   "cell_type": "code",
   "execution_count": 18,
   "metadata": {
    "collapsed": false
   },
   "outputs": [
    {
     "data": {
      "text/plain": [
       "array([[0, 0]])"
      ]
     },
     "execution_count": 18,
     "metadata": {},
     "output_type": "execute_result"
    }
   ],
   "source": [
    "bat.p_rhs_H_mf_u(3,4,1, 2,3,4,1, 2,3,4,1, 2,3,4,1)"
   ]
  },
  {
   "cell_type": "code",
   "execution_count": 19,
   "metadata": {
    "collapsed": false
   },
   "outputs": [
    {
     "data": {
      "text/plain": [
       "array([ 3, -1])"
      ]
     },
     "execution_count": 19,
     "metadata": {},
     "output_type": "execute_result"
    }
   ],
   "source": [
    "bat.q_rhs_H_mf(2,3,4,1, 2,3,4,1, 2,3,4,1, 2,3,4,1)"
   ]
  },
  {
   "cell_type": "code",
   "execution_count": 20,
   "metadata": {
    "collapsed": false
   },
   "outputs": [
    {
     "data": {
      "text/plain": [
       "array([ 3, -1])"
      ]
     },
     "execution_count": 20,
     "metadata": {},
     "output_type": "execute_result"
    }
   ],
   "source": [
    "bat.p_rhs_H_l(2,3,4,1, 2,3,4,1, 2,3,4,1, 2,3,4,1)"
   ]
  },
  {
   "cell_type": "code",
   "execution_count": 21,
   "metadata": {
    "collapsed": false
   },
   "outputs": [
    {
     "data": {
      "text/plain": [
       "array([[0, 0]])"
      ]
     },
     "execution_count": 21,
     "metadata": {},
     "output_type": "execute_result"
    }
   ],
   "source": [
    "bat.p_rhs_H_l_u(2,3,4,1, 2,3,4,1, 2,3,4,1, 2,3,4)"
   ]
  },
  {
   "cell_type": "code",
   "execution_count": 22,
   "metadata": {
    "collapsed": false
   },
   "outputs": [
    {
     "data": {
      "text/plain": [
       "array([[0, 0]])"
      ]
     },
     "execution_count": 22,
     "metadata": {},
     "output_type": "execute_result"
    }
   ],
   "source": [
    "bat.q_rhs_H_l_u(2,3,4,1, 2,3,4,1, 2,3,4,1, 2,3,4)"
   ]
  },
  {
   "cell_type": "code",
   "execution_count": 23,
   "metadata": {
    "collapsed": false
   },
   "outputs": [
    {
     "data": {
      "text/plain": [
       "array([-1, -1])"
      ]
     },
     "execution_count": 23,
     "metadata": {},
     "output_type": "execute_result"
    }
   ],
   "source": [
    "bat.p_rhs_H_l_nou(2,3,4,1, 2,3,4,1, 2,3,4,1, 2,3,4)"
   ]
  },
  {
   "cell_type": "code",
   "execution_count": null,
   "metadata": {
    "collapsed": false
   },
   "outputs": [],
   "source": [
    "bat.q_rhs_H_mf(2,3,4,1, 2,3,4,1, 2,3,4,1, 2,3,4,3)"
   ]
  },
  {
   "cell_type": "code",
   "execution_count": null,
   "metadata": {
    "collapsed": false
   },
   "outputs": [],
   "source": [
    "bat.qp_rhs(2,3,4,1, 2,3,4,1, 2,3,4,1, 2,3,4,3)"
   ]
  },
  {
   "cell_type": "markdown",
   "metadata": {
    "collapsed": true
   },
   "source": [
    "### write u_rhs , qp_rhs and test with numerical propagator"
   ]
  },
  {
   "cell_type": "code",
   "execution_count": 34,
   "metadata": {
    "collapsed": false
   },
   "outputs": [
    {
     "data": {
      "text/plain": [
       "'\\nNeed to fit everything into these inputs:\\nqp_vec, state_dim=sliding_window_instance.state_dim, Gamma = sliding_window_instance.Gamma, u_0 = u_0, q_mf=q_mf, u_mf=u_mf\\n'"
      ]
     },
     "execution_count": 34,
     "metadata": {},
     "output_type": "execute_result"
    }
   ],
   "source": [
    "# What things need to call qp_rhs?\n",
    "'''\n",
    "Need to fit everything into these inputs:\n",
    "qp_vec, state_dim=sliding_window_instance.state_dim, Gamma = sliding_window_instance.Gamma, u_0 = u_0, q_mf=q_mf, u_mf=u_mf\n",
    "'''"
   ]
  },
  {
   "cell_type": "code",
   "execution_count": 35,
   "metadata": {
    "collapsed": true
   },
   "outputs": [],
   "source": [
    "# propagate_q_p(qpu_vec, t_start, t_end, sliding_window_instance, q_mf, u_mf):"
   ]
  },
  {
   "cell_type": "code",
   "execution_count": 36,
   "metadata": {
    "collapsed": false
   },
   "outputs": [
    {
     "ename": "NameError",
     "evalue": "name 'q_B' is not defined",
     "output_type": "error",
     "traceback": [
      "\u001b[0;31m---------------------------------------------------------------------------\u001b[0m",
      "\u001b[0;31mNameError\u001b[0m                                 Traceback (most recent call last)",
      "\u001b[0;32m<ipython-input-36-667e8ef57cf3>\u001b[0m in \u001b[0;36m<module>\u001b[0;34m()\u001b[0m\n\u001b[1;32m      1\u001b[0m \u001b[0;31m# for right now, doesn't matter what we fill in for the values of the states of the other agents, so for now make =0\u001b[0m\u001b[0;34m\u001b[0m\u001b[0;34m\u001b[0m\u001b[0m\n\u001b[1;32m      2\u001b[0m \u001b[0mu_0\u001b[0m \u001b[0;34m=\u001b[0m \u001b[0;34m[\u001b[0m\u001b[0mu_B\u001b[0m\u001b[0;34m]\u001b[0m\u001b[0;34m\u001b[0m\u001b[0m\n\u001b[0;32m----> 3\u001b[0;31m \u001b[0mq_mf\u001b[0m \u001b[0;34m=\u001b[0m \u001b[0;34m[\u001b[0m\u001b[0mq_B\u001b[0m\u001b[0;34m,\u001b[0m \u001b[0mq_1\u001b[0m\u001b[0;34m,\u001b[0m \u001b[0mq_1_a\u001b[0m\u001b[0;34m,\u001b[0m \u001b[0mq_1_f\u001b[0m\u001b[0;34m,\u001b[0m \u001b[0mq_1_w\u001b[0m\u001b[0;34m,\u001b[0m \u001b[0mphi_L_1\u001b[0m\u001b[0;34m,\u001b[0m \u001b[0mq_2_a\u001b[0m\u001b[0;34m,\u001b[0m \u001b[0mq_2_f\u001b[0m\u001b[0;34m,\u001b[0m \u001b[0mq_2_w\u001b[0m\u001b[0;34m,\u001b[0m \u001b[0mphi_2_L\u001b[0m\u001b[0;34m]\u001b[0m\u001b[0;34m\u001b[0m\u001b[0m\n\u001b[0m\u001b[1;32m      4\u001b[0m \u001b[0mu_mf\u001b[0m \u001b[0;34m=\u001b[0m \u001b[0;34m[\u001b[0m\u001b[0mu_B\u001b[0m\u001b[0;34m,\u001b[0m \u001b[0mu_1_1\u001b[0m\u001b[0;34m,\u001b[0m \u001b[0mu_1_2\u001b[0m\u001b[0;34m,\u001b[0m \u001b[0mu_2_1\u001b[0m\u001b[0;34m]\u001b[0m\u001b[0;34m\u001b[0m\u001b[0m\n",
      "\u001b[0;31mNameError\u001b[0m: name 'q_B' is not defined"
     ]
    }
   ],
   "source": [
    "# for right now, doesn't matter what we fill in for the values of the states of the other agents, so for now make =0\n",
    "u_0 = [u_B]\n",
    "q_mf = [q_B, q_1, q_1_a, q_1_f, q_1_w, phi_L_1, q_2_a, q_2_f, q_2_w, phi_2_L]\n",
    "u_mf = [u_B, u_1_1, u_1_2, u_2_1]"
   ]
  },
  {
   "cell_type": "code",
   "execution_count": 37,
   "metadata": {
    "collapsed": false
   },
   "outputs": [
    {
     "data": {
      "text/plain": [
       "'remember that the propagator must stay generalized!  cannot hardcode that'"
      ]
     },
     "execution_count": 37,
     "metadata": {},
     "output_type": "execute_result"
    }
   ],
   "source": [
    "'''remember that the propagator must stay generalized!  cannot hardcode that'''"
   ]
  },
  {
   "cell_type": "code",
   "execution_count": 39,
   "metadata": {
    "collapsed": false
   },
   "outputs": [
    {
     "data": {
      "text/plain": [
       "0"
      ]
     },
     "execution_count": 39,
     "metadata": {},
     "output_type": "execute_result"
    }
   ],
   "source": [
    "bat.t_0"
   ]
  },
  {
   "cell_type": "code",
   "execution_count": 40,
   "metadata": {
    "collapsed": false
   },
   "outputs": [
    {
     "data": {
      "text/plain": [
       "array([0., 0.])"
      ]
     },
     "execution_count": 40,
     "metadata": {},
     "output_type": "execute_result"
    }
   ],
   "source": [
    "bat.q_s_dot"
   ]
  },
  {
   "cell_type": "code",
   "execution_count": 41,
   "metadata": {
    "collapsed": false
   },
   "outputs": [
    {
     "data": {
      "text/plain": [
       "array([0., 0.])"
      ]
     },
     "execution_count": 41,
     "metadata": {},
     "output_type": "execute_result"
    }
   ],
   "source": [
    "bat.q_s_0"
   ]
  },
  {
   "cell_type": "code",
   "execution_count": 42,
   "metadata": {
    "collapsed": false
   },
   "outputs": [
    {
     "ename": "AttributeError",
     "evalue": "batteryAgent instance has no attribute 'L_l_D_q_Dot'",
     "output_type": "error",
     "traceback": [
      "\u001b[0;31m---------------------------------------------------------------------------\u001b[0m",
      "\u001b[0;31mAttributeError\u001b[0m                            Traceback (most recent call last)",
      "\u001b[0;32m<ipython-input-42-551a8a71deaf>\u001b[0m in \u001b[0;36m<module>\u001b[0;34m()\u001b[0m\n\u001b[0;32m----> 1\u001b[0;31m \u001b[0msliding_window\u001b[0m\u001b[0;34m(\u001b[0m\u001b[0mbat\u001b[0m\u001b[0;34m)\u001b[0m\u001b[0;34m\u001b[0m\u001b[0m\n\u001b[0m",
      "\u001b[0;32m/Users/jordan/Documents/Atigeo/cdi/control_law_propagator/numerical_propagator.pyc\u001b[0m in \u001b[0;36msliding_window\u001b[0;34m(sliding_window_instance)\u001b[0m\n\u001b[1;32m    497\u001b[0m     \u001b[0;31m# set initial conditions for local Hamiltonian of agent i\u001b[0m\u001b[0;34m\u001b[0m\u001b[0;34m\u001b[0m\u001b[0m\n\u001b[1;32m    498\u001b[0m     \u001b[0mp_l_0\u001b[0m \u001b[0;34m=\u001b[0m \u001b[0msliding_window_instance\u001b[0m\u001b[0;34m.\u001b[0m\u001b[0mL_l_q_dot\u001b[0m\u001b[0;34m(\u001b[0m\u001b[0mq_s_0\u001b[0m\u001b[0;34m,\u001b[0m \u001b[0mq_s_dot_0\u001b[0m\u001b[0;34m,\u001b[0m \u001b[0mu_s_0\u001b[0m\u001b[0;34m)\u001b[0m \u001b[0;31m# compute using Dirac compatibility\u001b[0m\u001b[0;34m\u001b[0m\u001b[0m\n\u001b[0;32m--> 499\u001b[0;31m     \u001b[0mp_l_D_0\u001b[0m \u001b[0;34m=\u001b[0m \u001b[0msliding_window_instance\u001b[0m\u001b[0;34m.\u001b[0m\u001b[0mL_l_D_q_Dot\u001b[0m\u001b[0;34m(\u001b[0m\u001b[0mq_l_D_0\u001b[0m\u001b[0;34m,\u001b[0m \u001b[0mq_l_D_dot_0\u001b[0m\u001b[0;34m)\u001b[0m \u001b[0;31m# compute using Dirac compatibility\u001b[0m\u001b[0;34m\u001b[0m\u001b[0m\n\u001b[0m\u001b[1;32m    500\u001b[0m     \u001b[0mH_l_D_0\u001b[0m \u001b[0;34m=\u001b[0m \u001b[0msliding_window_instance\u001b[0m\u001b[0;34m.\u001b[0m\u001b[0mH_l_D\u001b[0m\u001b[0;34m(\u001b[0m\u001b[0mq_l_D_0\u001b[0m\u001b[0;34m,\u001b[0m \u001b[0mp_l_D_0\u001b[0m\u001b[0;34m)\u001b[0m\u001b[0;34m\u001b[0m\u001b[0m\n\u001b[1;32m    501\u001b[0m \u001b[0;34m\u001b[0m\u001b[0m\n",
      "\u001b[0;31mAttributeError\u001b[0m: batteryAgent instance has no attribute 'L_l_D_q_Dot'"
     ]
    }
   ],
   "source": [
    "sliding_window(bat)"
   ]
  },
  {
   "cell_type": "code",
   "execution_count": null,
   "metadata": {
    "collapsed": true
   },
   "outputs": [],
   "source": []
  },
  {
   "cell_type": "code",
   "execution_count": null,
   "metadata": {
    "collapsed": true
   },
   "outputs": [],
   "source": []
  },
  {
   "cell_type": "code",
   "execution_count": null,
   "metadata": {
    "collapsed": true
   },
   "outputs": [],
   "source": []
  }
 ],
 "metadata": {
  "kernelspec": {
   "display_name": "Python 2",
   "language": "python",
   "name": "python2"
  },
  "language_info": {
   "codemirror_mode": {
    "name": "ipython",
    "version": 2
   },
   "file_extension": ".py",
   "mimetype": "text/x-python",
   "name": "python",
   "nbconvert_exporter": "python",
   "pygments_lexer": "ipython2",
   "version": "2.7.12rc1"
  }
 },
 "nbformat": 4,
 "nbformat_minor": 1
}
