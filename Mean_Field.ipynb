{
 "cells": [
  {
   "cell_type": "markdown",
   "metadata": {},
   "source": [
    "This is the prototype of the Mean Field\n",
    "\n",
    "There will be three main modules:\n",
    "\n",
    "- 1) Agent\n",
    "\n",
    "- 2) MeanField\n",
    "\n",
    "- 3) BlackBoard"
   ]
  },
  {
   "cell_type": "code",
   "execution_count": 14,
   "metadata": {
    "collapsed": false
   },
   "outputs": [],
   "source": [
    "import numpy as np\n",
    "import scipy as sp\n",
    "import ode\n",
    "from sliding_window import *"
   ]
  },
  {
   "cell_type": "markdown",
   "metadata": {},
   "source": [
    "### Agent"
   ]
  },
  {
   "cell_type": "code",
   "execution_count": 24,
   "metadata": {
    "collapsed": false
   },
   "outputs": [],
   "source": [
    "class Agent:\n",
    "    \n",
    "    def __init__(self, state_indices, control_indices):\n",
    "        '''\n",
    "        state_indices (list of integers): This list tells which states pertain to this agent. e.g. [1,2] would \n",
    "        tell us that states 1 and 2 pertain to this agent.\n",
    "        '''\n",
    "        self.state_indices = state_indices\n",
    "        self.control_indices = control_indices\n",
    "        self.u_l_vec = None\n",
    "        self.qp_l_vec = None\n",
    "        self.u_l_dict = None\n",
    "        self.qp_l_dict = None\n",
    "    \n",
    "    def L_l(self, q, q_dot, u):\n",
    "        return\n",
    "    \n",
    "    def L_l_q_dot(self, t, q, q_dot, u, **kwargs):\n",
    "        return\n",
    "    \n",
    "    def H_l_nou(self, q, p, lambda_l):\n",
    "        return \n",
    "\n",
    "    def qp_rhs_l_nou(self, t, qp_vec, **kwargs):\n",
    "        dim = len(qp_vec)/4\n",
    "        q = qp_vec[:dim]\n",
    "        p = qp_vec[dim:2*dim]\n",
    "        q_D = qp_vec[2*dim:3*dim]\n",
    "        p_D = qp_vec[3*dim:]\n",
    "        u = kwargs['u_0']\n",
    "        # for q-dot\n",
    "        q_dot =  np.zeros(np.shape(p))\n",
    "        # for p-dot\n",
    "        p_dot =  np.zeros(np.shape(q))\n",
    "        q_D_dot =  np.zeros(np.shape(p))\n",
    "        p_D_dot =  np.zeros(np.shape(q))\n",
    "        return np.concatenate([q_dot, p_dot, q_D_dot, p_D_dot])\n",
    "       \n",
    "    def u_rhs_l_nou(self, t, u_vec, **kwargs):\n",
    "        qp_vec = kwargs['qp_vec']\n",
    "        dim = len(qp_vec)/4\n",
    "        q = qp_vec[:dim]\n",
    "        p = qp_vec[dim:2*dim]\n",
    "        q_D = qp_vec[2*dim:3*dim]\n",
    "        p_D = qp_vec[3*dim:]\n",
    "        Gamma = kwargs['Gamma']\n",
    "        # for u-dot\n",
    "        return -1*Gamma*np.zeros(np.shape(u_vec))\n",
    "\n",
    "    def H_l_u(self, q, p, u):\n",
    "        return \n",
    "    \n",
    "    def qp_rhs_l_u(self, t, qp_vec, **kwargs):\n",
    "        dim = len(qp_vec)/4\n",
    "        q = qp_vec[:dim]\n",
    "        p = qp_vec[dim:2*dim]\n",
    "        q_D = qp_vec[2*dim:3*dim]\n",
    "        p_D = qp_vec[3*dim:]\n",
    "        u = kwargs['u_0']\n",
    "        # for q-dot\n",
    "        q_dot =  np.zeros(np.shape(p))\n",
    "        # for p-dot\n",
    "        p_dot =  np.zeros(np.shape(q))\n",
    "        q_D_dot =  np.zeros(np.shape(p))\n",
    "        p_D_dot =  np.zeros(np.shape(q))\n",
    "        return np.concatenate([q_dot, p_dot, q_D_dot, p_D_dot])\n",
    "       \n",
    "    def u_rhs_l_u(self, t, u_vec, **kwargs):\n",
    "        qp_vec = kwargs['qp_vec']\n",
    "        dim = len(qp_vec)/4\n",
    "        q = qp_vec[:dim]\n",
    "        p = qp_vec[dim:2*dim]\n",
    "        q_D = qp_vec[2*dim:3*dim]\n",
    "        p_D = qp_vec[3*dim:]\n",
    "        Gamma = kwargs['Gamma']\n",
    "        # for u-dot\n",
    "        return -1*Gamma*np.zeros(np.shape(u_vec))\n",
    "\n",
    "    def qp_rhs_H_s(self, t, qp_vec, **kwargs):\n",
    "        # This will include a term for qp_rhs_l and a term for qp_rhs_MF: \n",
    "        qp_vec\n",
    "        qp_rhs_H_s = (1-alpha)*qp_rhs_l(self, qp_vec)+alpha*qp_rhs_MF()\n",
    "        return np.concatenate([q_dot, p_dot, q_D_dot, p_D_dot])\n",
    "       \n",
    "    def u_rhs_H_s(self, t, u_vec, **kwargs):\n",
    "        return np.concatenate([q_dot, p_dot, q_D_dot, p_D_dot])\n",
    "        Gamma = kwargs['Gamma']\n",
    "        # for u-dot\n",
    "        return -1*Gamma*np.zeros(np.shape(u_vec))\n",
    "\n",
    "    def H_l_D():\n",
    "        pass\n",
    "        \n",
    "    def L_l_D():\n",
    "        pass\n",
    "        \n",
    "    def L_l_D_q_Dot():\n",
    "        pass\n",
    "    # Inputs for numerical propagator\n",
    "    q_0 = np.array([0])\n",
    "    p_0 = np.array([0])\n",
    "    q_D = np.array([0])\n",
    "    p_D = np.array([0])\n",
    "    u_0 = np.array([0])\n",
    "    qpu_vec = np.hstack([q_0, p_0, q_D, p_D, u_0])\n",
    "    state_dim = 1 \n",
    "    Gamma = 1 \n",
    "       \n",
    "    # Inputs for numerical integration\n",
    "    integrateTol = 10**-3\n",
    "    integrateMaxIter = 40\n",
    "       \n",
    "    # Inputs for sliding window\n",
    "    t_0 = 0 \n",
    "    T =  2\n",
    "    K=1 \n",
    "    t_terminal = 2 \n",
    "    n_s = 10\n",
    "\n"
   ]
  },
  {
   "cell_type": "markdown",
   "metadata": {},
   "source": [
    "### MeanField"
   ]
  },
  {
   "cell_type": "code",
   "execution_count": 25,
   "metadata": {
    "collapsed": false
   },
   "outputs": [],
   "source": [
    "class MeanField:\n",
    "    \n",
    "    def __init__(self):\n",
    "        pass\n",
    "    \n",
    "    def H_MF_nou(self, q, p):\n",
    "        pass\n",
    "        \n",
    "    def qp_rhs_H_MF_nou(self, t, qp_vec, **kwargs):\n",
    "        pass\n",
    "\n",
    "    def H_MF_u(self, q, p):\n",
    "        pass\n",
    "        \n",
    "    def qp_rhs_H_MF_u(self, t, qp_vec, **kwargs):\n",
    "        pass\n",
    "          "
   ]
  },
  {
   "cell_type": "markdown",
   "metadata": {},
   "source": [
    "### Blackboard"
   ]
  },
  {
   "cell_type": "code",
   "execution_count": 35,
   "metadata": {
    "collapsed": true
   },
   "outputs": [],
   "source": [
    "class Blackboard:\n",
    "    \n",
    "    def __init__(self):\n",
    "        '''\n",
    "#         state_agent_mapping is dictionary with keys: object of class Agent, \n",
    "#               values: list of integers state_indices state_indices\n",
    "        '''\n",
    "#         self.state_agent_mapping={}\n",
    "        '''       \n",
    "        q_p_u_dict is a dictionary which maps 'q', 'p', 'u', to a dictionary of index-value pairs: local values for q, p, and u for this agent.  \n",
    "                        blackboard holds all of the most recent local values, e.g.\n",
    "                        {'q': {'1':3, '2':0}, 'p': {'1':3, '2': 2}, 'u': {'1': 0}}\n",
    "                        It doesn't care which agent updated them most recently.  It only needs to know which values to update.\n",
    "        q_p_u_dict initially will be filled \n",
    "        '''\n",
    "        self.q_p_u_dict={'q':{}, 'p':{}, 'u':{}}\n",
    "    \n",
    "    def construct_p_q(self, agent):\n",
    "        '''\n",
    "        Inputs:\n",
    "            agent (instance of class Agent): This is the agent for which we are constructing p and q.\n",
    "        \n",
    "        Outputs:\n",
    "            qp_vec (np.array): vector of q and p values\n",
    "            u_vec (np.array): vector of u values\n",
    "        '''\n",
    "        # find which states pertain to this agent\n",
    "        # for the states that don't, get the values from q_p_u_dict and put them into qp_vec \n",
    "        \n",
    "        qp_vec = agent\n",
    "        # read all other values for other states from agent_q_p_u_dict\n",
    "        return qp_vec, u_vec\n",
    "    \n",
    "    def update_q_p_u_dict(self, agent):\n",
    "        '''  This method should be called after local propagation of each agent\n",
    "        Inputs:\n",
    "            agent (instance of class Agent): this is the agent whos values we are updating\n",
    "        Outputs:\n",
    "            No outputs.  This method just updates the attributes of the blackboard,\n",
    "            just update the dictionary, agent_q_p_u_dict.\n",
    "        '''\n",
    "        # determine which states pertain to this agent and replace the old values with new\n",
    "        for state_ix in agent.state_indices:\n",
    "            self.q_p_u_dict['q'][str(state_ix)] = agent.q_p_u_dict['q'][str(state_ix)]\n",
    "            self.q_p_u_dict['p'][str(state_ix)] = agent.q_p_u_dict['p'][str(state_ix)]\n",
    "            \n",
    "        for control_ix in agent.control_indices:\n",
    "            self.q_p_u_dict['u'][str(control_ix)] = agent.q_p_u_dict['u'][str(control_ix)]\n",
    "        \n",
    "    # Look at what things the Blackboard needs\n",
    "    # It at least needs a mapping that tells which states pertain to which agent\n",
    "    # It needs to keep track of all states, costates, controls for all agents so that we can plug in values when necessary"
   ]
  },
  {
   "cell_type": "markdown",
   "metadata": {},
   "source": [
    "#### small test"
   ]
  },
  {
   "cell_type": "code",
   "execution_count": 38,
   "metadata": {
    "collapsed": false
   },
   "outputs": [],
   "source": [
    "myAgent=Agent(state_indices=[1,2], control_indices=[1,3])\n",
    "myAgent.q_p_u_dict={}\n",
    "myAgent.q_p_u_dict['q']={}\n",
    "myAgent.q_p_u_dict['q']['1']=[0]\n",
    "myAgent.q_p_u_dict['q']['2']=[0]\n",
    "\n",
    "myAgent.q_p_u_dict['p']={}\n",
    "myAgent.q_p_u_dict['p']['1']=[0]\n",
    "myAgent.q_p_u_dict['p']['2']=[0]\n",
    "\n",
    "\n",
    "myAgent.q_p_u_dict['u']={}\n",
    "myAgent.q_p_u_dict['u']['1']=[0]\n",
    "myAgent.q_p_u_dict['u']['2']=[0]\n",
    "\n",
    "bb=Blackboard()\n"
   ]
  },
  {
   "cell_type": "code",
   "execution_count": 39,
   "metadata": {
    "collapsed": false
   },
   "outputs": [
    {
     "ename": "KeyError",
     "evalue": "'3'",
     "output_type": "error",
     "traceback": [
      "\u001b[0;31m---------------------------------------------------------------------------\u001b[0m",
      "\u001b[0;31mKeyError\u001b[0m                                  Traceback (most recent call last)",
      "\u001b[0;32m<ipython-input-39-163bb6be3765>\u001b[0m in \u001b[0;36m<module>\u001b[0;34m()\u001b[0m\n\u001b[0;32m----> 1\u001b[0;31m \u001b[0mbb\u001b[0m\u001b[0;34m.\u001b[0m\u001b[0mupdate_q_p_u_dict\u001b[0m\u001b[0;34m(\u001b[0m\u001b[0mmyAgent\u001b[0m\u001b[0;34m)\u001b[0m\u001b[0;34m\u001b[0m\u001b[0m\n\u001b[0m",
      "\u001b[0;32m<ipython-input-35-b4a5f1643956>\u001b[0m in \u001b[0;36mupdate_q_p_u_dict\u001b[0;34m(self, agent)\u001b[0m\n\u001b[1;32m     46\u001b[0m \u001b[0;34m\u001b[0m\u001b[0m\n\u001b[1;32m     47\u001b[0m         \u001b[0;32mfor\u001b[0m \u001b[0mcontrol_ix\u001b[0m \u001b[0;32min\u001b[0m \u001b[0magent\u001b[0m\u001b[0;34m.\u001b[0m\u001b[0mcontrol_indices\u001b[0m\u001b[0;34m:\u001b[0m\u001b[0;34m\u001b[0m\u001b[0m\n\u001b[0;32m---> 48\u001b[0;31m             \u001b[0mself\u001b[0m\u001b[0;34m.\u001b[0m\u001b[0mq_p_u_dict\u001b[0m\u001b[0;34m[\u001b[0m\u001b[0;34m'u'\u001b[0m\u001b[0;34m]\u001b[0m\u001b[0;34m[\u001b[0m\u001b[0mstr\u001b[0m\u001b[0;34m(\u001b[0m\u001b[0mcontrol_ix\u001b[0m\u001b[0;34m)\u001b[0m\u001b[0;34m]\u001b[0m \u001b[0;34m=\u001b[0m \u001b[0magent\u001b[0m\u001b[0;34m.\u001b[0m\u001b[0mq_p_u_dict\u001b[0m\u001b[0;34m[\u001b[0m\u001b[0;34m'u'\u001b[0m\u001b[0;34m]\u001b[0m\u001b[0;34m[\u001b[0m\u001b[0mstr\u001b[0m\u001b[0;34m(\u001b[0m\u001b[0mcontrol_ix\u001b[0m\u001b[0;34m)\u001b[0m\u001b[0;34m]\u001b[0m\u001b[0;34m\u001b[0m\u001b[0m\n\u001b[0m\u001b[1;32m     49\u001b[0m \u001b[0;34m\u001b[0m\u001b[0m\n\u001b[1;32m     50\u001b[0m     \u001b[0;31m# Look at what things the Blackboard needs\u001b[0m\u001b[0;34m\u001b[0m\u001b[0;34m\u001b[0m\u001b[0m\n",
      "\u001b[0;31mKeyError\u001b[0m: '3'"
     ]
    }
   ],
   "source": [
    "bb.update_q_p_u_dict(myAgent)"
   ]
  },
  {
   "cell_type": "markdown",
   "metadata": {},
   "source": [
    "#### What things we need in the blackboard:"
   ]
  },
  {
   "cell_type": "code",
   "execution_count": null,
   "metadata": {
    "collapsed": true
   },
   "outputs": [],
   "source": []
  }
 ],
 "metadata": {
  "kernelspec": {
   "display_name": "Python 2",
   "language": "python",
   "name": "python2"
  },
  "language_info": {
   "codemirror_mode": {
    "name": "ipython",
    "version": 2
   },
   "file_extension": ".py",
   "mimetype": "text/x-python",
   "name": "python",
   "nbconvert_exporter": "python",
   "pygments_lexer": "ipython2",
   "version": "2.7.12rc1"
  }
 },
 "nbformat": 4,
 "nbformat_minor": 1
}
