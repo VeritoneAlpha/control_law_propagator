{
 "cells": [
  {
   "cell_type": "markdown",
   "metadata": {},
   "source": [
    "This is v1 of the control law propagator\n",
    "There will be three main modules:\n",
    "\n",
    "- 1) Propagator\n",
    "\n",
    "- 2) sliding window\n",
    "\n",
    "- 3) window filter"
   ]
  },
  {
   "cell_type": "code",
   "execution_count": 1,
   "metadata": {
    "collapsed": false
   },
   "outputs": [],
   "source": [
    "import numpy as np\n",
    "import scipy as sp\n",
    "import ode"
   ]
  },
  {
   "cell_type": "code",
   "execution_count": 2,
   "metadata": {
    "collapsed": true
   },
   "outputs": [],
   "source": [
    "# Inputs:\n",
    "q_0 = np.array([0,2])\n",
    "p_0 = np.array([1,4])\n",
    "u_0 = np.array([2])\n",
    "\n",
    "t_start = 0\n",
    "t_end =  1\n",
    "\n",
    "integrateTol = 10**-3\n",
    "integrateMaxIter = 4\n",
    "state_dim = 2\n",
    "Gamma = 1\n"
   ]
  },
  {
   "cell_type": "code",
   "execution_count": 3,
   "metadata": {
    "collapsed": false
   },
   "outputs": [
    {
     "data": {
      "text/plain": [
       "array([1., 1.])"
      ]
     },
     "execution_count": 3,
     "metadata": {},
     "output_type": "execute_result"
    }
   ],
   "source": [
    "np.ones(np.shape(q_0))"
   ]
  },
  {
   "cell_type": "code",
   "execution_count": 4,
   "metadata": {
    "collapsed": false
   },
   "outputs": [],
   "source": [
    "def H_T_p(q,p,u):\n",
    "    # for q-dot\n",
    "    return np.ones(np.shape(q))+q\n",
    "\n",
    "def H_T_q(q,p,u):\n",
    "    # for p-dot\n",
    "    return np.ones(np.shape(p))+p\n",
    "    \n",
    "def Q_u(q,p,u):\n",
    "    # for u-dot\n",
    "    return np.ones(np.shape(u))+u\n",
    "    "
   ]
  },
  {
   "cell_type": "code",
   "execution_count": 5,
   "metadata": {
    "collapsed": true
   },
   "outputs": [],
   "source": [
    "def rhs(t, qpu_vec, **kwargs):\n",
    "    '''\n",
    "    Input: qpu_vec\n",
    "    \n",
    "    Output: qpu_vec\n",
    "    '''\n",
    "    state_dim = kwargs['state_dim']\n",
    "    Gamma = kwargs['Gamma']\n",
    "    q = qpu_vec[:state_dim]\n",
    "    p = qpu_vec[state_dim:2*state_dim]\n",
    "    u = qpu_vec[2*state_dim:]\n",
    "    q_dot =  H_T_p(q,p,u)\n",
    "    p_dot = -1*H_T_q(q,p,u)\n",
    "    u_dot = -Gamma*Q_u(q,p,u)\n",
    "#     import pdb; pdb.set_trace()\n",
    "    return np.hstack([q_dot, p_dot, u_dot])"
   ]
  },
  {
   "cell_type": "code",
   "execution_count": 6,
   "metadata": {
    "collapsed": false
   },
   "outputs": [
    {
     "name": "stdout",
     "output_type": "stream",
     "text": [
      "[1 4 2]\n",
      "[1 4]\n",
      "[0 2 1 4 2]\n"
     ]
    }
   ],
   "source": [
    "print np.hstack([q_0, p_0, u_0])[2:]\n",
    "print np.hstack([q_0, p_0, u_0])[2:2*2]\n",
    "print np.hstack([q_0, p_0, u_0])"
   ]
  },
  {
   "cell_type": "code",
   "execution_count": 7,
   "metadata": {
    "collapsed": true
   },
   "outputs": [],
   "source": [
    "# call the ode to integrate the dynamic equations to get q, p, and u"
   ]
  },
  {
   "cell_type": "markdown",
   "metadata": {},
   "source": [
    "ODE takes as input:\n",
    "- RHS\n",
    "- initial condition\n",
    "- t_start and t_end for which you want your desired output values"
   ]
  },
  {
   "cell_type": "code",
   "execution_count": 8,
   "metadata": {
    "collapsed": false
   },
   "outputs": [],
   "source": [
    "#     q = qpu_vec[:state_dim]\n",
    "#     p = qpu_vec[state_dim:2*state_dim]\n",
    "#     u = qpu_vec[2*state_dim:]"
   ]
  },
  {
   "cell_type": "code",
   "execution_count": 9,
   "metadata": {
    "collapsed": false
   },
   "outputs": [],
   "source": [
    "qpu_vec = np.hstack([q_0, p_0, u_0])"
   ]
  },
  {
   "cell_type": "code",
   "execution_count": 10,
   "metadata": {
    "collapsed": false
   },
   "outputs": [
    {
     "data": {
      "text/plain": [
       "array([0, 2, 1, 4, 2])"
      ]
     },
     "execution_count": 10,
     "metadata": {},
     "output_type": "execute_result"
    }
   ],
   "source": [
    "qpu_vec "
   ]
  },
  {
   "cell_type": "code",
   "execution_count": 11,
   "metadata": {
    "collapsed": false
   },
   "outputs": [
    {
     "data": {
      "text/plain": [
       "(array([[0.        , 2.        , 1.        , 4.        , 2.        ],\n",
       "        [0.28385417, 2.8515625 , 0.55729167, 2.89322917, 1.3359375 ]]),\n",
       " array([0.  , 0.25]),\n",
       " True,\n",
       " 4)"
      ]
     },
     "execution_count": 11,
     "metadata": {},
     "output_type": "execute_result"
    }
   ],
   "source": [
    "# qpu_vec = np.vstack([q_0, p_0, u_0])\n",
    "ode.ode_rk23(rhs, t_start, t_end, qpu_vec, integrateTol, integrateMaxIter, state_dim=state_dim, Gamma = Gamma)"
   ]
  },
  {
   "cell_type": "code",
   "execution_count": null,
   "metadata": {
    "collapsed": true
   },
   "outputs": [],
   "source": []
  }
 ],
 "metadata": {
  "kernelspec": {
   "display_name": "Python 2",
   "language": "python",
   "name": "python2"
  },
  "language_info": {
   "codemirror_mode": {
    "name": "ipython",
    "version": 2
   },
   "file_extension": ".py",
   "mimetype": "text/x-python",
   "name": "python",
   "nbconvert_exporter": "python",
   "pygments_lexer": "ipython2",
   "version": "2.7.12rc1"
  }
 },
 "nbformat": 4,
 "nbformat_minor": 1
}
