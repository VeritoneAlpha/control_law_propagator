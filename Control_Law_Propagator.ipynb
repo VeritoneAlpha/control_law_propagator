{
 "cells": [
  {
   "cell_type": "markdown",
   "metadata": {},
   "source": [
    "This is v1 of the control law propagator\n",
    "There will be three main modules:\n",
    "\n",
    "- 1) Propagator\n",
    "\n",
    "- 2) sliding window\n",
    "\n",
    "- 3) window filter"
   ]
  },
  {
   "cell_type": "code",
   "execution_count": 1,
   "metadata": {
    "collapsed": false
   },
   "outputs": [],
   "source": [
    "import numpy as np\n",
    "import scipy as sp\n",
    "import ode"
   ]
  },
  {
   "cell_type": "code",
   "execution_count": 2,
   "metadata": {
    "collapsed": true
   },
   "outputs": [],
   "source": [
    "# Inputs:\n",
    "q_0 = np.array([0])\n",
    "p_0 = np.array([0])\n",
    "u_0 = np.array([0])\n",
    "qpu_vec = np.hstack([q_0, p_0, u_0])\n",
    "\n",
    "t_0 = 0\n",
    "T =  2\n",
    "K=1\n",
    "\n",
    "integrateTol = 10**-3\n",
    "integrateMaxIter = 40\n",
    "state_dim = 1\n",
    "Gamma = 1"
   ]
  },
  {
   "cell_type": "code",
   "execution_count": 3,
   "metadata": {
    "collapsed": false
   },
   "outputs": [],
   "source": [
    "def H_T_p(q,p,u):\n",
    "    # for q-dot\n",
    "    return np.ones(np.shape(q))*0\n",
    "\n",
    "def H_T_q(q,p,u):\n",
    "    # for p-dot\n",
    "    return np.ones(np.shape(p))*0\n",
    "    \n",
    "def Q_u(q,p,u):\n",
    "    # for u-dot\n",
    "    return np.ones(np.shape(u))*0\n",
    "    "
   ]
  },
  {
   "cell_type": "code",
   "execution_count": 4,
   "metadata": {
    "collapsed": true
   },
   "outputs": [],
   "source": [
    "def rhs(t, qpu_vec, **kwargs):\n",
    "    # TODO: make sure that the functions that this calls are available\n",
    "    state_dim = kwargs['state_dim']\n",
    "    Gamma = kwargs['Gamma']\n",
    "    q = qpu_vec[:state_dim]\n",
    "    p = qpu_vec[state_dim:2*state_dim]\n",
    "    u = qpu_vec[2*state_dim:]\n",
    "    q_dot =  H_T_p(q,p,u)\n",
    "    p_dot = -1*H_T_q(q,p,u)\n",
    "    u_dot = -Gamma*Q_u(q,p,u)\n",
    "    return np.hstack([q_dot, p_dot, u_dot])"
   ]
  },
  {
   "cell_type": "code",
   "execution_count": 5,
   "metadata": {
    "collapsed": false
   },
   "outputs": [],
   "source": [
    "def propagate_dynamics(t_0, T, K, qpu_vec, integrateTol, integrateMaxIter, state_dim, Gamma):\n",
    "    qs=[]\n",
    "    ps=[]\n",
    "    us=[]\n",
    "\n",
    "    ts = range(t_0,T+1,(T-t_0)/(2*K)) # go until T+1 because last value will be used as starting point for next window\n",
    "\n",
    "    for i in range(len(ts)-1):\n",
    "        t_start, t_end = ts[i], ts[i+1]\n",
    "        qpu_vec_i, t, failFlag, iter_i = ode.ode_rk23(rhs, t_start, t_end, qpu_vec, integrateTol, integrateMaxIter, state_dim=state_dim, Gamma = Gamma)\n",
    "        qpu_vec = qpu_vec_i[-1] # only need the last value\n",
    "        if i == len(ts)-2 :\n",
    "            pass \n",
    "            # no need to append since weight = 0 for last value.  but qpu_vec still needs to be updated.\n",
    "        else:\n",
    "            qs.append(qpu_vec[:state_dim])\n",
    "            ps.append(qpu_vec[state_dim:2*state_dim])\n",
    "            us.append(qpu_vec[2*state_dim:])\n",
    "\n",
    "    return qpu_vec, qs, ps, us\n",
    "    "
   ]
  },
  {
   "cell_type": "code",
   "execution_count": 6,
   "metadata": {
    "collapsed": false
   },
   "outputs": [],
   "source": [
    "qpu_vec, qs, ps, us = propagate_dynamics(t_0, T, K, qpu_vec, integrateTol, integrateMaxIter, state_dim, Gamma)"
   ]
  },
  {
   "cell_type": "code",
   "execution_count": 7,
   "metadata": {
    "collapsed": false
   },
   "outputs": [
    {
     "data": {
      "text/plain": [
       "array([0., 0., 0.])"
      ]
     },
     "execution_count": 7,
     "metadata": {},
     "output_type": "execute_result"
    }
   ],
   "source": [
    "qpu_vec"
   ]
  },
  {
   "cell_type": "markdown",
   "metadata": {},
   "source": [
    "### Triangle window filter"
   ]
  },
  {
   "cell_type": "code",
   "execution_count": 8,
   "metadata": {
    "collapsed": false
   },
   "outputs": [],
   "source": [
    "def get_weights(K):\n",
    "    weights_0 = [float(i)/K for i in range(1,K+1)]  \n",
    "    weights_1 = [2-(float(i)/K) for i in range(K+1,(2*K)+1)]\n",
    "    # sanity check \n",
    "    assert len(weights_0)==len(weights_1)\n",
    "    weights = weights_0+weights_1\n",
    "    weights_total = sum(weights[:-1])\n",
    "    return weights, weights_total"
   ]
  },
  {
   "cell_type": "code",
   "execution_count": 9,
   "metadata": {
    "collapsed": false
   },
   "outputs": [],
   "source": [
    "def apply_filter(vec, weights, weights_total):\n",
    "    vec_weighted = [val*w for val,w in zip(vec, weights[:-1])]\n",
    "    vec_current = np.sum(vec_weighted,0)\n",
    "    vec_normalized = vec_current/float(weights_total)\n",
    "    return vec_normalized\n",
    "\n",
    "weights, weights_total = get_weights(K)\n",
    "q_bar = apply_filter(qs,weights, weights_total)\n",
    "p_bar = apply_filter(ps,weights, weights_total)\n",
    "u_bar = apply_filter(us,weights, weights_total)"
   ]
  },
  {
   "cell_type": "code",
   "execution_count": 10,
   "metadata": {
    "collapsed": false
   },
   "outputs": [
    {
     "name": "stdout",
     "output_type": "stream",
     "text": [
      "[0.]\n",
      "[0.]\n",
      "[0.]\n",
      "[array([0.])]\n",
      "[array([0.])]\n",
      "[array([0.])]\n"
     ]
    }
   ],
   "source": [
    "# outputs:\n",
    "\n",
    "print q_bar\n",
    "print p_bar\n",
    "print u_bar\n",
    "\n",
    "print qs\n",
    "print ps\n",
    "print us"
   ]
  },
  {
   "cell_type": "markdown",
   "metadata": {},
   "source": [
    "### Sliding window (outer loop)"
   ]
  },
  {
   "cell_type": "code",
   "execution_count": 11,
   "metadata": {
    "collapsed": true
   },
   "outputs": [],
   "source": [
    "# additional inputs \n",
    "t_terminal = 100"
   ]
  },
  {
   "cell_type": "code",
   "execution_count": 12,
   "metadata": {
    "collapsed": true
   },
   "outputs": [],
   "source": [
    "def sliding_window(t_0, T, K, q_0, p_0, u_0, state_dim, Gamma, t_terminal):\n",
    "    q_bars = []\n",
    "    p_bars = []\n",
    "    u_bars = []\n",
    "    weights, weights_total = get_weights(K)\n",
    "    t=t_0 # wall clock time\n",
    "    qpu_vec = np.hstack([q_0, p_0, u_0])\n",
    "    while t<t_terminal:\n",
    "        \n",
    "        qpu_vec, qs, ps, us = propagate_dynamics(t_0, T, K, qpu_vec, integrateTol, integrateMaxIter, state_dim, Gamma)\n",
    "        # qs, ps, and us will go to Mean Field somehow\n",
    "\n",
    "        q_bar = apply_filter(qs,weights, weights_total)\n",
    "        p_bar = apply_filter(ps,weights, weights_total)\n",
    "        u_bar = apply_filter(us,weights, weights_total)\n",
    "        \n",
    "        t+=1\n",
    "        \n",
    "        q_bars.append(q_bar)\n",
    "        p_bars.append(p_bar)\n",
    "        u_bars.append(u_bar)\n",
    "\n",
    "    return q_bars, p_bars, u_bars"
   ]
  },
  {
   "cell_type": "code",
   "execution_count": 13,
   "metadata": {
    "collapsed": false
   },
   "outputs": [],
   "source": [
    "q_bars, p_bars, u_bars = sliding_window(t_0, T, K, q_0, p_0, u_0, state_dim, Gamma, t_terminal)"
   ]
  },
  {
   "cell_type": "code",
   "execution_count": null,
   "metadata": {
    "collapsed": true
   },
   "outputs": [],
   "source": []
  }
 ],
 "metadata": {
  "kernelspec": {
   "display_name": "Python 2",
   "language": "python",
   "name": "python2"
  },
  "language_info": {
   "codemirror_mode": {
    "name": "ipython",
    "version": 2
   },
   "file_extension": ".py",
   "mimetype": "text/x-python",
   "name": "python",
   "nbconvert_exporter": "python",
   "pygments_lexer": "ipython2",
   "version": "2.7.12rc1"
  }
 },
 "nbformat": 4,
 "nbformat_minor": 1
}
