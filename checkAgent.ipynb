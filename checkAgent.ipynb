{
 "cells": [
  {
   "cell_type": "markdown",
   "metadata": {},
   "source": [
    "This is the prototype of the using the checkAgent class to check Agents\n"
   ]
  },
  {
   "cell_type": "code",
   "execution_count": 1,
   "metadata": {
    "collapsed": false
   },
   "outputs": [
    {
     "data": {
      "text/html": [
       "<style>.container { width:100% !important; }</style>"
      ],
      "text/plain": [
       "<IPython.core.display.HTML object>"
      ]
     },
     "metadata": {},
     "output_type": "display_data"
    }
   ],
   "source": [
    "from IPython.core.display import display, HTML\n",
    "display(HTML(\"<style>.container { width:100% !important; }</style>\"))"
   ]
  },
  {
   "cell_type": "code",
   "execution_count": 2,
   "metadata": {
    "collapsed": false
   },
   "outputs": [],
   "source": [
    "import numpy as np\n",
    "import scipy as sp\n",
    "import ode\n",
    "from numerical_propagator import *\n",
    "from synchronizer import *\n",
    "from blackboard import *\n",
    "from batteryAgent import *\n",
    "from agentChecker import *"
   ]
  },
  {
   "cell_type": "markdown",
   "metadata": {},
   "source": [
    "### checkAgent"
   ]
  },
  {
   "cell_type": "code",
   "execution_count": 3,
   "metadata": {
    "collapsed": false
   },
   "outputs": [],
   "source": [
    "# fake data\n",
    "q_1_0=1\n",
    "q_B_0=1\n",
    "\n",
    "p_1_0 = 0\n",
    "p_B_0 = 0\n",
    "\n",
    "q_s = np.concatenate([np.array([q_1_0]),np.array([q_B_0])])\n",
    "p_l = np.concatenate([np.array([p_1_0]),np.array([p_B_0])])\n",
    "\n",
    "u_B = 1\n",
    "\n",
    "v_c_u_0=1\n",
    "v_c_1_0=1\n",
    "\n",
    "c_1=1\n",
    "R_0=1\n",
    "R_1=1\n",
    "\n",
    "v_a=1\n",
    "Q_0=100\n",
    "beta=1000\n",
    "v_N=1\n",
    "\n",
    "u_vec = np.array([u_B])\n",
    "lambda_l = np.ones((1,len(q_s))) # must have dimension [1D x state_dim]\n",
    "\n",
    "# for now, create mean field vectors, and fill in state for other agents with zero.\n",
    "\n",
    "## building 1 \n",
    "# states\n",
    "qfb1 = 0\n",
    "qab1 = 0\n",
    "qwb1 = 0\n",
    "phil1b1 = 0\n",
    "# controls\n",
    "u1b1 = 0\n",
    "u2 = 0\n",
    "\n",
    "## building 2\n",
    "# states\n",
    "qfb2 = 0\n",
    "qab2 = 0\n",
    "qwb2 = 0\n",
    "phil1b2 = 0\n",
    "# controls\n",
    "u1b2 = 0\n",
    "\n",
    "# mean field vectors\n",
    "q_1 = q_1_0\n",
    "q_B = q_B_0\n",
    "q_mf = np.array([q_1, q_B, qfb1, qab1, qwb1, phil1b1, qfb2, qab2, qwb2, phil1b2])\n",
    "u_mf = np.array([u_B, u1b1, u2, u1b2])\n",
    "# set equal to p_l for now, since we are using fake data \n",
    "p_mf = p_l\n",
    "\n",
    "# for extracting values\n",
    "q_1  = q_mf[0]\n",
    "q_B  = q_mf[1]\n",
    "qfb1  = q_mf[2]\n",
    "qab1  = q_mf[3]\n",
    "qwb1  = q_mf[4]\n",
    "phil1b1  = q_mf[5]\n",
    "qfb2  = q_mf[6]\n",
    "qab2  = q_mf[7]\n",
    "qwb2  = q_mf[8]\n",
    "phil1b2  = q_mf[9]\n",
    "\n",
    "u_B = u_mf[0]\n",
    "u1b1 = u_mf[1]\n",
    "u2 = u_mf[2]\n",
    "u1b2 = u_mf[3]\n",
    "\n",
    "u_s = np.array([u_B])\n",
    "qp_vec = np.concatenate([q_s, p_l, p_mf])\n",
    "bb = Blackboard()\n",
    "bat = batteryAgent(bb, state_indices=[1,2], control_indices=[1], q_1_0=q_1_0, q_B_0=q_B_0, v_c_u_0=v_c_u_0, v_c_1_0=v_c_1_0, c_1=c_1, R_0=R_0, R_1=R_1, v_a=v_a, Q_0=Q_0, beta=beta, v_N=v_N)"
   ]
  },
  {
   "cell_type": "code",
   "execution_count": 4,
   "metadata": {
    "collapsed": false
   },
   "outputs": [],
   "source": [
    "ac = AgentChecker(bat)"
   ]
  },
  {
   "cell_type": "code",
   "execution_count": 5,
   "metadata": {
    "collapsed": false
   },
   "outputs": [
    {
     "data": {
      "text/plain": [
       "array([0., 0.])"
      ]
     },
     "execution_count": 5,
     "metadata": {},
     "output_type": "execute_result"
    }
   ],
   "source": [
    "bat.q_s_0"
   ]
  },
  {
   "cell_type": "code",
   "execution_count": 6,
   "metadata": {
    "collapsed": false
   },
   "outputs": [],
   "source": [
    "# ac.check_All()"
   ]
  },
  {
   "cell_type": "code",
   "execution_count": 7,
   "metadata": {
    "collapsed": true
   },
   "outputs": [],
   "source": [
    "# check if it exists, and if so, then check if it's a callable and if either one is not true, then report it"
   ]
  },
  {
   "cell_type": "code",
   "execution_count": 13,
   "metadata": {
    "collapsed": false
   },
   "outputs": [
    {
     "data": {
      "text/plain": [
       "False"
      ]
     },
     "execution_count": 13,
     "metadata": {},
     "output_type": "execute_result"
    }
   ],
   "source": [
    "isinstance(3, list)"
   ]
  },
  {
   "cell_type": "code",
   "execution_count": 18,
   "metadata": {
    "collapsed": false
   },
   "outputs": [
    {
     "data": {
      "text/plain": [
       "True"
      ]
     },
     "execution_count": 18,
     "metadata": {},
     "output_type": "execute_result"
    }
   ],
   "source": [
    "np.shape(3) == ()"
   ]
  },
  {
   "cell_type": "code",
   "execution_count": 14,
   "metadata": {
    "collapsed": false
   },
   "outputs": [
    {
     "data": {
      "text/plain": [
       "False"
      ]
     },
     "execution_count": 14,
     "metadata": {},
     "output_type": "execute_result"
    }
   ],
   "source": [
    "isinstance(np.array(3), list)"
   ]
  },
  {
   "cell_type": "code",
   "execution_count": null,
   "metadata": {
    "collapsed": false
   },
   "outputs": [],
   "source": [
    "\n",
    "\n",
    "if 'L_l' in dir(bat):\n",
    "    L_l_callable = getattr(bat, 'L_l')\n",
    "    if L_l_callable.hasattr('__call__'):\n",
    "        # call the method\n",
    "        # check the output, and report NA if the method doesn't exist\n",
    "        result = L_l_callable(inputs)\n",
    "    else:\n",
    "        \n",
    "else:\n",
    "    "
   ]
  },
  {
   "cell_type": "code",
   "execution_count": null,
   "metadata": {
    "collapsed": false
   },
   "outputs": [],
   "source": [
    "getattr(ac, 'check_All')\n",
    "try: \n",
    "    getattr(ac, 'bs')"
   ]
  },
  {
   "cell_type": "code",
   "execution_count": null,
   "metadata": {
    "collapsed": true
   },
   "outputs": [],
   "source": []
  }
 ],
 "metadata": {
  "kernelspec": {
   "display_name": "Python 2",
   "language": "python",
   "name": "python2"
  },
  "language_info": {
   "codemirror_mode": {
    "name": "ipython",
    "version": 2
   },
   "file_extension": ".py",
   "mimetype": "text/x-python",
   "name": "python",
   "nbconvert_exporter": "python",
   "pygments_lexer": "ipython2",
   "version": "2.7.12rc1"
  }
 },
 "nbformat": 4,
 "nbformat_minor": 1
}
