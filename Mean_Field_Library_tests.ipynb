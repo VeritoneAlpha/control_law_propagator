{
 "cells": [
  {
   "cell_type": "markdown",
   "metadata": {},
   "source": [
    "This is the prototype of the Mean Field\n",
    "\n",
    "There will be three main modules:\n",
    "\n",
    "- 1) Agent\n",
    "\n",
    "- 2) MeanField\n",
    "\n",
    "- 3) BlackBoard"
   ]
  },
  {
   "cell_type": "code",
   "execution_count": 1,
   "metadata": {
    "collapsed": false
   },
   "outputs": [
    {
     "data": {
      "text/html": [
       "<style>.container { width:100% !important; }</style>"
      ],
      "text/plain": [
       "<IPython.core.display.HTML object>"
      ]
     },
     "metadata": {},
     "output_type": "display_data"
    }
   ],
   "source": [
    "from IPython.core.display import display, HTML\n",
    "display(HTML(\"<style>.container { width:100% !important; }</style>\"))"
   ]
  },
  {
   "cell_type": "code",
   "execution_count": 2,
   "metadata": {
    "collapsed": false
   },
   "outputs": [],
   "source": [
    "import numpy as np\n",
    "import scipy as sp\n",
    "import ode\n",
    "from numerical_propagator import *\n",
    "from synchronizer import *\n",
    "from blackboard import *"
   ]
  },
  {
   "cell_type": "markdown",
   "metadata": {},
   "source": [
    "### Agent"
   ]
  },
  {
   "cell_type": "code",
   "execution_count": 3,
   "metadata": {
    "collapsed": false
   },
   "outputs": [],
   "source": [
    "class Agent:\n",
    "    \n",
    "    def __init__(self, blackboard, state_indices, control_indices):\n",
    "        '''\n",
    "        state_indices (list of integers): This list tells which states pertain to this agent. e.g. [1,2] would \n",
    "        tell us that states 1 and 2 pertain to this agent.\n",
    "        \n",
    "        A word on notation:  The notation used for the methods of the agent is:  \n",
    "            - If it is a partial derivative: <denominator>_rhs_H_<type of hamiltonian (l, mf, or s)>_<nou or u>.  e.g., \n",
    "            \"qp_rhs_H_l_u\" denotes the partial derivative with respect to q and p of the terms in the local Hamiltonian that contain control variables.\n",
    "            - If it is a hamiltonian: H_<type of hamiltonian (l, mf, or s)>_<nou or u>.  e.g. \"H_mf_nou\" denotes the mean field hamiltonian\n",
    "            with terms not containing u.\n",
    "        '''\n",
    "        self.state_indices = state_indices\n",
    "        self.control_indices = control_indices\n",
    "        self.bb = blackboard\n",
    "\n",
    "        # Inputs for numerical propagator\n",
    "        # qp_vec is going to be [q_s, p_l, p_mf], so it will have dimension = 3*state_dim\n",
    "\n",
    "        self.q_s_0 = np.array([0])\n",
    "        self.p_l_0 = np.array([0])\n",
    "        self.p_mf_0 = np.array([0])\n",
    "        self.u_s_0 = np.array([0])\n",
    "        self.qpu_vec = np.hstack([self.q_s_0, self.p_l_0, self.p_mf_0, self.u_s_0])\n",
    "        self.q_s_dot = np.array([0])  # must have same dimensions as q_s\n",
    "        self.state_dim = 1\n",
    "        self.Gamma = 1\n",
    "        self.gamma = 1  # function is inputted by the user to compute this.\n",
    "        self.sync = None # gets filled in when Synchronizer class is initialized\n",
    "        self.name='Agent1'\n",
    "\n",
    "        # Inputs for numerical integration\n",
    "        self.integrateTol = 10**-5\n",
    "        self.integrateMaxIter = 400\n",
    "\n",
    "        # Inputs for sliding window\n",
    "        self.t_0 = 0 \n",
    "        self.T =  2\n",
    "        self.K = 4\n",
    "\n",
    "        self.t_terminal = 4 # terminate entire simulation of this agent\n",
    "        self.n_s = 2 #10 # number of steps inside of each bucket\n",
    "\n",
    "        self.validate_dimensions()\n",
    "        \n",
    "    def compute_gamma(self):\n",
    "        # if only one agent, then gamma = 1\n",
    "        if len(self.bb.agents) == 1:\n",
    "            return 1\n",
    "        q_s, p_l, p_mf, u_s = self.qpu_vec\n",
    "        q_s_dot = self.q_s_dot\n",
    "        num = self.L_l(q_s, q_s_dot, u_s)\n",
    "        denom = 0\n",
    "\n",
    "        assert len(self.bb.agents) != 0, 'Add agents to your blackboard by calling bb.update_q_p_u_dict(<agent>)'\n",
    "        for agent in self.bb.agents:\n",
    "            denom += agent.L_l(q_s, q_s_dot, u_s)\n",
    "        self.gamma = float(num)/float(denom)\n",
    "        \n",
    "\n",
    "    def validate_dimensions(self):\n",
    "        # TODO: move to parent class \"SlidingWindow\"\n",
    "        assert len(self.state_indices) == self.state_dim, 'state dimensions are not consistent.  dimension of state indices is '+str(len(self.state_indices)) +' and state_dim is '+str(self.state_dim)\n",
    "        assert len(self.control_indices) == len(self.u_s_0), 'control dimensions are not consistent.  dimension of control_indices is '+str(len(self.control_indices)) +' and len(u_0) is '+str(len(self.u_s_0))\n",
    "        assert len(self.qpu_vec) == 3*self.state_dim + len(self.control_indices), ' control and state dimensions are not consistent with qpu_vec : length of qpu_vec is '+str(len(self.qpu_vec))+ ' and 3*self.state_dim + len(self.control_indices) is ' + str(3*self.state_dim + len(self.control_indices))\n",
    "    \n",
    "    '''\n",
    "    TODO:  \n",
    "    Add an assertion to check that the dimension of q_s_0, p_mf_0, and u_0:\n",
    "        - the dimension of state_dim\n",
    "        - state_indices and control_indices set upon initiation of the Agent\n",
    "    '''\n",
    "    \n",
    "    def L_l(self, q_s, q_s_dot, u_s):\n",
    "        return 1\n",
    "    \n",
    "    def L_l_q_dot(self, q_s, q_s_dot, u_s):\n",
    "        return q_s\n",
    "    \n",
    "    def H_l_nou(self, q_s, p_l, lambda_l):\n",
    "        return 1\n",
    "\n",
    "    def p_rhs_H_l_nou(self, q_s, p_l, lambda_l):\n",
    "        return np.array(p_l)\n",
    "    \n",
    "    def q_rhs_H_l_nou(self, q_s, p_l, lambda_l):\n",
    "        return np.array(p_l)\n",
    "    \n",
    "    # There should be one of these defined for each control variable\n",
    "\n",
    "    def H_l_u_1(self, q_s, p_s):\n",
    "        return 1\n",
    "    \n",
    "    def H_l(self, q_s, p_l, u_s, lambda_l):\n",
    "        # used in \"Construct local Hamiltonian of agent i\"\n",
    "        H_l = self.H_l_nou(q_s, p_l, lambda_l)\n",
    "        H_l = H_l + self.H_l_u_1(q_s, p_s)*u_s[0]\n",
    "        return H_l\n",
    "            \n",
    "    def compute_lambdas(self, q_s, p_l, u_l):\n",
    "        # not implemented yet\n",
    "        return np.ones((1,self.state_dim))\n",
    "    \n",
    "    def p_rhs_H_l_u(self, q_s, p_l):\n",
    "        return np.array(p_l)\n",
    "    \n",
    "    def q_rhs_H_l_u(self, q_s, p_l):\n",
    "        return np.array(p_l)\n",
    "    \n",
    "    def H_l_D(self, q_lD, p_lD):\n",
    "        return np.array(q_lD).dot(p_lD)\n",
    "        \n",
    "    def L_l_D(self, q_lD, p_lD):\n",
    "        # return scalar\n",
    "        return 1\n",
    "        \n",
    "    def L_l_D_q_Dot(self, q_l_D, q_l_D_Dot):\n",
    "        # return  1-D array of dimension 1 by state_dim,\n",
    "        # each q_lD is a 1-D array of size 1 by state_dim array\n",
    "        return 1\n",
    "\n",
    "    def qp_rhs(self, t, qp_vec, **kwargs):\n",
    "        # u_s is constant (because of causality, remember?)\n",
    "        u_s = kwargs['u_0']\n",
    "        state_dim = kwargs['state_dim']\n",
    "        q_mf = kwargs['q_mf']\n",
    "        u_mf = kwargs['u_mf']\n",
    "        \n",
    "        # TODO:  get a kwargs working for lambda_l\n",
    "        lambda_l = 0 # kwargs['lambda_l']\n",
    "        q_s = qp_vec[:state_dim]\n",
    "        p_l = qp_vec[state_dim:2*state_dim]\n",
    "        p_mf = qp_vec[2*state_dim:]\n",
    "        \n",
    "        qp_rhs_H_mf = self.qp_rhs_H_mf(q_mf, p_mf, u_mf)\n",
    "        q_rhs_H_mf = qp_rhs_H_mf[:state_dim]\n",
    "        p_rhs_H_mf = qp_rhs_H_mf[state_dim:]\n",
    "\n",
    "        qp_rhs_H_l = self.qp_rhs_H_l(q_s, p_l, u_s, lambda_l)\n",
    "        q_rhs_H_l = qp_rhs_H_l[:state_dim]\n",
    "        p_rhs_H_l = qp_rhs_H_l[state_dim:]\n",
    "\n",
    "        q_s_dot = self.gamma*p_rhs_H_mf + (1-self.gamma)*p_rhs_H_l\n",
    "        p_mf_dot = q_rhs_H_mf\n",
    "        p_l_dot = -1*q_rhs_H_l\n",
    "        \n",
    "        return np.concatenate([q_s_dot, p_l_dot, p_mf_dot])\n",
    "    \n",
    "    def qp_rhs_H_l(self, q_s, p_l, u_s, lambda_l):\n",
    "        #TODO: there is one lambda_l per constraint. need to work out dimensions.\n",
    "        q_rhs_H_l = self.q_rhs_H_l_nou(q_s, p_l, lambda_l) + sum([self.q_rhs_H_l_u(q_s, p_l)*u_s_i for u_s_i in u_s])\n",
    "        p_rhs_H_l = self.p_rhs_H_l_nou(q_s, p_l, lambda_l) + sum([self.p_rhs_H_l_u(q_s, p_l)*u_s_i for u_s_i in u_s])\n",
    "        return np.concatenate([q_rhs_H_l, p_rhs_H_l])\n",
    "\n",
    "    def u_rhs(self, t, u_vec, **kwargs):\n",
    "        u_s = kwargs['u_0']\n",
    "        state_dim = kwargs['state_dim']\n",
    "        q_mf_dot = kwargs['q_mf_dot']\n",
    "        q_s_dot = kwargs['q_s_dot']\n",
    "        p_mf_dot = kwargs['p_mf_dot']\n",
    "        q_mf = kwargs['q_mf']\n",
    "        u_mf = kwargs['u_mf']\n",
    "        qp_vec = kwargs['qp_vec']\n",
    "        H_l_D = kwargs['H_l_D']\n",
    "        q_s = qp_vec[:state_dim]\n",
    "        p_l = qp_vec[state_dim:2*state_dim]\n",
    "        p_mf = qp_vec[2*state_dim:]\n",
    "\n",
    "        def Beta_j(self, q_mf, p_mf, u_mf, u_s, q_s_dot, q_mf_dot, p_mf_dot, q_s, p_l, j):\n",
    "            Beta_mf=[]\n",
    "            Beta_l=[]\n",
    "            H_mf_u = self.H_MF_u(q_mf, p_mf)\n",
    "            H_l_u = self.H_l_u(q_s, p_l)\n",
    "            lambda_l=0\n",
    "            j=j-1 # indices start at 0 but control indices start at 1\n",
    "            for k in range(len(self.control_indices)):\n",
    "                Beta_mf_k = H_mf_u[j]*(np.dot(self.q_rhs_H_mf_u(p_mf, q_mf, u_mf)[k], q_s_dot) + np.dot(self.p_rhs_H_mf_u(p_mf, q_mf, u_mf)[k], p_mf_dot)) + \\\n",
    "                            H_mf_u[k]*(np.dot(self.q_rhs_H_mf_u(p_mf, q_mf, u_mf)[j], q_s_dot) + np.dot(self.p_rhs_H_mf_u(p_mf, q_mf, u_mf)[j], p_mf_dot))\n",
    "                Beta_l_k = H_l_u[j]*(np.dot(self.q_rhs_H_l_u(q_s, p_l)[k], q_s_dot) + np.dot(self.p_rhs_H_l_u(q_s, p_l)[k], p_mf_dot)) + \\\n",
    "                           H_l_u[k]*(np.dot(self.q_rhs_H_l_u(q_s, p_l)[j], q_s_dot) + np.dot(self.p_rhs_H_l_u(q_s, p_l)[j], p_mf_dot))\n",
    "                    \n",
    "                Beta_mf.append(Beta_mf_k)\n",
    "                Beta_l.append(Beta_l_k)\n",
    "            return Beta_mf, Beta_l\n",
    "                \n",
    "        def alpha_j(self, q_mf, p_mf, u_mf, u_s, q_s_dot, q_mf_dot, p_mf_dot, q_s, p_l, H_l_D, j):\n",
    "            alpha_mf = []\n",
    "            alpha_l = []\n",
    "            H_mf_u = self.H_MF_u(q_mf, p_mf)\n",
    "            H_l_u = self.H_l_u(q_s, p_l)\n",
    "            j=j-1\n",
    "            H_mf_nou = self.H_MF_nou(q_mf, p_mf, u_mf)\n",
    "            H_l_nou = self.H_l_nou(q_mf, p_mf, u_mf)\n",
    "            lambda_l = 0\n",
    "            for k in range(len(self.control_indices)):\n",
    "                alpha_mf_k = H_mf_u[j]*(np.dot(self.q_rhs_H_mf_nou(p_mf, q_mf, u_mf), q_s_dot) + np.dot(self.p_rhs_H_mf_nou(p_mf, q_mf, u_mf), p_mf_dot)) +\\\n",
    "                            (H_mf_nou-H_l_D)*(np.dot(self.q_rhs_H_mf_u(p_mf, q_mf, u_mf)[j], q_s_dot) + np.dot(self.p_rhs_H_mf_u(p_mf, q_mf, u_mf)[j], p_mf_dot))\n",
    "\n",
    "                alpha_l_k = H_l_u[j]*(np.dot(self.q_rhs_H_l_nou(q_s, p_l, lambda_l)[k], q_s_dot) + np.dot(self.p_rhs_H_l_nou(q_s, p_l)[k], p_l_dot)) +\\\n",
    "                            (H_l_nou-H_l_D)*(np.dot(self.q_rhs_H_l_u(q_s, p_l)[j], q_s_dot) + np.dot(self.p_rhs_H_l_u(q_s, p_l)[j], p_l_dot))\n",
    "                alpha_mf.append(alpha_mf_k)\n",
    "                alpha_l.append(alpha_l_k)\n",
    "            return alpha_mf, alpha_l\n",
    "                \n",
    "        for j in self.control_indices:\n",
    "            Beta_mf, Beta_l = Beta_j(self, q_mf, p_mf, u_mf, u_s, q_s_dot, q_mf_dot, p_mf_dot, q_s, p_l, j)\n",
    "            alpha_mf, alpha_l = alpha_j(self, q_mf, p_mf, u_mf, u_s, q_s_dot, q_mf_dot, p_mf_dot, q_s, p_l, H_l_D, j)\n",
    "\n",
    "\n",
    "        return -1*self.Gamma*(self.gamma*(alpha_mf + np.dot(Beta_mf,u_s)) +\\\n",
    "                              (1-self.gamma)*(alpha_l + np.dot(Beta_l,u_s)))\n",
    "    \n",
    "    ## Mean Field methods\n",
    "    def H_MF_nou(self, q_mf, p_mf, u_mf):\n",
    "        # Shen has u_mf in the flow chart\n",
    "        return -1\n",
    "\n",
    "    def H_MF_u(self, q_mf, p_mf, u_mf):\n",
    "        # q_s, u_mf are vectors for ALL of the states, and controls\n",
    "        # p_mf is a vector for ONLY the local states/costates\n",
    "        # length of u_s must match number of terms here\n",
    "        # some of the elements in u_s are quenched\n",
    "        return self.H_MF_u_1(q_s, p_mf, u_s)*u_mf[0] + self.H_MF_u_2(q_s, p_mf, u_mf)*u_mf[1]\n",
    "\n",
    "    def H_MF_u_1(self, q_mf, p_mf):\n",
    "        return q_mf[0]*q_mf[1]\n",
    "    \n",
    "    def H_MF_u_2(self, q_mf, p_mf):\n",
    "        return q_mf[1]\n",
    "        \n",
    "    def qp_rhs_H_mf(self, q_mf, p_mf, u_s):\n",
    "        # remember that we want to propagate as much as possible together in the same rhs function for numerical purposes\n",
    "        # remember that q_rhs here is w.r.t p_mf but p_rhs here is w.r.t q_s\n",
    "        q_H_mf_dot = self.p_rhs_H_mf(q_mf, p_mf, u_mf, u_s)\n",
    "        p_H_mf_dot = self.q_rhs_H_mf(q_mf, p_mf, u_mf, u_s)\n",
    "        return np.concatenate([q_H_mf_dot, p_H_mf_dot])\n",
    "    \n",
    "    def q_rhs_H_mf(self, q_mf, p_mf, u_mf, u_s):\n",
    "        # q_rhs_H_mf is the derivative wrt each of the local variables, so it will return something of dimension state_dim\n",
    "        # q_rhs_H_mf_u returns the partial derivatives wrt each control, concatenated together\n",
    "        q_rhs_H_mf_u = self.q_rhs_H_mf_u(q_mf, p_mf, u_mf)\n",
    "        assert np.shape(q_rhs_H_mf_u)==(len(self.control_indices), self.state_dim) # first dimension should be number of controls, inner dimension should be state_dim\n",
    "        q_rhs_H_mf_u_summed = sum([q_rhs_H_mf_u[i]*u_s[i] for i in range(len(u_s))])\n",
    "        return self.q_rhs_H_mf_nou(q_mf, p_mf) + q_rhs_H_mf_u_summed\n",
    "        \n",
    "    def q_rhs_H_mf_u(self, q_mf, p_mf, u_mf):\n",
    "        # should return something of dimension \n",
    "        p_H_mf_u_dot_1 =  p_mf # or something\n",
    "        return np.array([p_H_mf_u_dot_1])\n",
    "    \n",
    "    def p_rhs_H_mf(self, q_mf, p_mf, u_mf, u_s):\n",
    "        # q_rhs_H_mf is the derivative wrt each of the local variables, so it will return something of dimension state_dim\n",
    "        # q_rhs_H_mf_u returns the partial derivatives wrt each control, concatenated together\n",
    "        p_rhs_H_mf_u = self.p_rhs_H_mf_u(q_mf, p_mf, u_mf)\n",
    "        p_rhs_H_mf_u_summed = sum([p_rhs_H_mf_u[i]*u_s[i] for i in range(len(u_s))])\n",
    "        return self.p_rhs_H_mf_nou(q_mf, p_mf) + p_rhs_H_mf_u_summed\n",
    "        \n",
    "    def p_rhs_H_mf_nou(self, q_mf, p_mf):\n",
    "        return -1*p_mf # or something\n",
    "\n",
    "    def q_rhs_H_mf_nou(self, q_mf, p_mf):\n",
    "        return -1*p_mf\n",
    "\n",
    "    def p_rhs_H_mf_u(self, q_mf, p_mf, u_mf):\n",
    "        q_H_mf_u_dot = p_mf\n",
    "        return np.array([q_H_mf_u_dot])\n",
    "\n",
    "    def L_mf_q_dot(self, q_mf, q_mf_dot, u_mf):\n",
    "        # q_mf_dot, q_mf (inputs) here will be vectors with ALL of the states\n",
    "        # u_mf is a vector of ALL of the controls\n",
    "        # extract q_s from q_mf\n",
    "        \n",
    "        # note that these methods must return vectors that are of local dimension - state_dim - even though they take in vectors of dimension for all the states\n",
    "        # the user needs to be aware of the indices the correspond to each state\n",
    "        \n",
    "        def L_l_q_dot_agent_1(q_mf, q_mf_dot, u_mf):\n",
    "            return -1*np.array(q_mf[0])\n",
    "        \n",
    "        def L_l_q_dot_agent_2(q_mf, q_mf_dot, u_mf):\n",
    "            return -1*np.array(q_mf[1])\n",
    "        \n",
    "        L_mf_total_q_dot = np.zeros(self.state_dim)\n",
    "\n",
    "        # agent 1\n",
    "        L_mf_total_q_dot += L_l_q_dot_agent_1(q_mf, q_mf_dot, u_mf)\n",
    "\n",
    "        # agent 2\n",
    "        L_mf_total_q_dot += L_l_q_dot_agent_2(q_mf, q_mf_dot, u_mf)\n",
    "        assert np.shape(L_mf_total_q_dot)[0] == self.state_dim, 'dimensions of L_mf_total_q_dot must match those of the local state, currently the dimensions are ' +str(np.shape(L_mf_total_q_dot)[0])\n",
    "        return L_mf_total_q_dot"
   ]
  },
  {
   "cell_type": "code",
   "execution_count": 4,
   "metadata": {
    "collapsed": false
   },
   "outputs": [],
   "source": [
    "class Agent2:\n",
    "    \n",
    "    def __init__(self, blackboard, state_indices, control_indices):\n",
    "        '''\n",
    "        state_indices (list of integers): This list tells which states pertain to this agent. e.g. [1,2] would \n",
    "        tell us that states 1 and 2 pertain to this agent.\n",
    "        \n",
    "        A word oNn notation:  The notation used for the methods of the agent is:  \n",
    "            - If it is a partial derivative: <denominator>_rhs_H_<type of hamiltonian (l, mf, or s)>_<nou or u>.  e.g., \n",
    "            \"qp_rhs_H_l_u\" denotes the partial derivative with respect to q and p of the terms in the local Hamiltonian that contain control variables.\n",
    "            - If it is a hamiltonian: H_<type of hamiltonian (l, mf, or s)>_<nou or u>.  e.g. \"H_mf_nou\" denotes the mean field hamiltonian\n",
    "            with terms not containing u.\n",
    "        '''\n",
    "        self.state_indices = state_indices\n",
    "        self.control_indices = control_indices\n",
    "        self.bb = blackboard\n",
    "\n",
    "        # Inputs for numerical propagator\n",
    "        # qp_vec is going to be [q_s, p_l, p_mf], so it will have dimension = 3*state_dim\n",
    "\n",
    "        self.q_s_0 = np.array([0,2])\n",
    "        self.p_l_0 = np.array([0,3])\n",
    "        self.p_mf_0 = np.array([0,1])\n",
    "        self.u_s_0 = np.array([0])\n",
    "        self.qpu_vec = np.hstack([self.q_s_0, self.p_l_0, self.p_mf_0, self.u_s_0])\n",
    "        self.state_dim = 2\n",
    "        self.Gamma = 1 \n",
    "        self.gamma = 1 # gets computed each time the agent is visited\n",
    "        self.q_s_dot = np.array([0,1])  # must have same dimensions as q_s\n",
    "        self.sync = None # gets Synchronizer class is initialized\n",
    "        self.name='Agent2'\n",
    "        \n",
    "        # Inputs for numerical integration\n",
    "        self.integrateTol = 10**-5\n",
    "        self.integrateMaxIter = 400\n",
    "\n",
    "        # Inputs for sliding window\n",
    "        self.t_0 = 0\n",
    "        self.T = 2\n",
    "        self.K = 4\n",
    "\n",
    "        self.t_terminal = 2\n",
    "        self.n_s = 2 #10\n",
    "\n",
    "        self.validate_dimensions()\n",
    "\n",
    "    def validate_dimensions(self):\n",
    "        # TODO: move to parent class \"SlidingWindow\"\n",
    "        assert len(self.state_indices) == self.state_dim, 'state dimensions are not consistent.  dimension of state indices is '+str(len(self.state_indices)) +' and state_dim is '+str(self.state_dim)\n",
    "        assert len(self.control_indices) == len(self.u_s_0), 'control dimensions are not consistent.  dimension of control_indices is '+str(len(self.control_indices)) +' and len(u_0) is '+str(len(self.u_s_0))\n",
    "        assert len(self.qpu_vec) == 3*self.state_dim + len(self.control_indices), ' control and state dimensions are not consistent with qpu_vec : length of qpu_vec is '+str(len(self.qpu_vec))+ ' and 3*self.state_dim + len(self.control_indices) is ' + str(3*self.state_dim + len(self.control_indices))\n",
    "    \n",
    "    '''\n",
    "    TODO:  \n",
    "    Add an assertion to check that the dimension of q_s_0, p_mf_0, and u_0:\n",
    "        - the dimension of state_dim    \n",
    "        - state_indices and control_indices set upon initiation of the Agent\n",
    "    '''\n",
    "    \n",
    "    def L_l(self, q_s, q_s_dot, u_s):\n",
    "        return 1\n",
    "    \n",
    "    def L_l_q_dot(self, q_s, q_s_dot, u_s):\n",
    "        return q_s\n",
    "    \n",
    "    def H_l_nou(self, q_s, p_l, lambda_l):\n",
    "        return 1\n",
    "\n",
    "    def H_l_u(self, q_s, p_l):\n",
    "        return np.array([0])\n",
    "\n",
    "    def q_rhs_H_l(self, q_s, p_l, u_s, lambda_l):\n",
    "        q_rhs_H_l_u = self.q_rhs_H_l_u(q_s, p_l)\n",
    "        q_rhs_H_l_u_summed = sum([q_rhs_H_l_u[i]*u_s[i] for i in range(len(u_s))])\n",
    "        return self.q_rhs_H_l_nou(q_s, p_l, lambda_l) + q_rhs_H_l_u_summed\n",
    "\n",
    "    def qp_rhs_H_l(self, q_s, p_l, u_s, lambda_l):\n",
    "        # TODO: there is one lambda_l per constraint. need to work out dimensions.\n",
    "        q_H_l_dot = self.p_rhs_H_l(q_s, p_l, u_s, lambda_l)\n",
    "        p_H_l_dot = self.q_rhs_H_l(q_s, p_l, u_s, lambda_l)\n",
    "        return np.concatenate([q_H_l_dot, p_H_l_dot])\n",
    "\n",
    "    def q_rhs_H_l_u(self, q_s, p_l):\n",
    "        # this must be 2D array, so wrap it in np.array\n",
    "        q_rhs_H_l_u = -1*np.array([q_s])\n",
    "        return q_rhs_H_l_u\n",
    "    \n",
    "    def q_rhs_H_l_nou(self, q_s, p_l, lambda_l):\n",
    "        # this needs to be 1d array so no need to wrap it in np.array, unlike q_rhs_H_l_u\n",
    "        q_rhs_H_l_nou = q_s\n",
    "        return -1*q_rhs_H_l_nou\n",
    "    \n",
    "    def p_rhs_H_l(self, q_s, p_l, u_s, lambda_l):\n",
    "        p_rhs_H_l_u = self.p_rhs_H_l_u(q_s, p_l)\n",
    "        p_rhs_H_l_u_summed = sum([p_rhs_H_l_u[i]*u_s[i] for i in range(len(u_s))])\n",
    "        return self.p_rhs_H_l_nou(q_s, p_l, lambda_l) + p_rhs_H_l_u_summed\n",
    "\n",
    "    def p_rhs_H_l_u(self, q_s, p_l):\n",
    "        # this must be 2D array, so wrap it in np.array\n",
    "        p_rhs_H_l_u = np.array([q_s])\n",
    "        return -1*p_rhs_H_l_u\n",
    "    \n",
    "    def p_rhs_H_l_nou(self, q_s, p_l, lambda_l):\n",
    "        # this needs to be 1d array so no need to wrap it in np.array, unlike q_rhs_H_l_u\n",
    "        p_rhs_H_l_nou = q_s\n",
    "        return -1*p_rhs_H_l_nou\n",
    "\n",
    "    def H_l(self, q_s, p_l, lambda_l, u_s):\n",
    "        # used in \"Construct local Hamiltonian of agent i\"\n",
    "        H_l_nou = self.H_l_nou(q_s, p_l, lambda_l)\n",
    "        H_l_u = self.H_l_u(q_s, p_l, lambda_l)\n",
    "        H_l_u_summed = sum([H_l_u[i]*u_s[i] for i in range(len(u_s))])\n",
    "        H_l = H_l_nou + H_l_u_summed\n",
    "        return H_l            \n",
    "    \n",
    "    def compute_lambdas(self, q_s, p_l, u_l):\n",
    "        # not implemented yet\n",
    "        return np.ones((1,self.state_dim))\n",
    "    \n",
    "    def H_l_D(self, q_lD, p_lD):\n",
    "        return np.array(q_lD).dot(p_lD)\n",
    "        \n",
    "    def L_l_D(self, q_lD, p_lD):\n",
    "        # return scalar\n",
    "        return 1\n",
    "        \n",
    "    def L_l_D_q_Dot(self, q_lD, p_lD):\n",
    "        # return 1 by state_dim, 1-D array\n",
    "        # each q_lD is a 1-D array of size 1 by state_dim array\n",
    "        return 1\n",
    "    \n",
    "    def qp_rhs(self, t, qp_vec, **kwargs):\n",
    "        # u_s is constant (because of causality, remember?)\n",
    "        u_s = kwargs['u_0']\n",
    "        state_dim = kwargs['state_dim']\n",
    "        q_mf = kwargs['q_mf']\n",
    "        u_mf = kwargs['u_mf']\n",
    "        \n",
    "        # TODO:  get a kwargs working for lambda_l\n",
    "        lambda_l = 0 # kwargs['lambda_l']\n",
    "        q_s = qp_vec[:state_dim]\n",
    "        p_l = qp_vec[state_dim:2*state_dim]\n",
    "        p_mf = qp_vec[2*state_dim:]\n",
    "\n",
    "        qp_rhs_H_mf = self.qp_rhs_H_mf(q_mf, p_mf, u_mf, u_s)\n",
    "        q_rhs_H_mf = qp_rhs_H_mf[:state_dim]\n",
    "        p_rhs_H_mf = qp_rhs_H_mf[state_dim:]\n",
    "        \n",
    "        qp_rhs_H_l = self.qp_rhs_H_l(q_s, p_l, u_s, lambda_l)\n",
    "        q_rhs_H_l = qp_rhs_H_l[:state_dim]\n",
    "        p_rhs_H_l = qp_rhs_H_l[state_dim:]\n",
    "\n",
    "        q_s_dot = self.gamma*p_rhs_H_mf + (1-self.gamma)*p_rhs_H_l\n",
    "        p_mf_dot = q_rhs_H_mf\n",
    "        p_l_dot = -1*q_rhs_H_l\n",
    "\n",
    "        return np.concatenate([q_s_dot, p_l_dot, p_mf_dot])\n",
    "    \n",
    "    def u_rhs(self, t, u_vec, **kwargs):\n",
    "        u_s = kwargs['u_0']\n",
    "        state_dim = kwargs['state_dim']\n",
    "        q_mf_dot = kwargs['q_mf_dot']\n",
    "        q_s_dot = kwargs['q_s_dot']\n",
    "        p_mf_dot = kwargs['p_mf_dot']\n",
    "        q_mf = kwargs['q_mf']\n",
    "        u_mf = kwargs['u_mf']\n",
    "        qp_vec = kwargs['qp_vec']\n",
    "        H_l_D = kwargs['H_l_D']\n",
    "        q_s = qp_vec[:state_dim]\n",
    "        p_l = qp_vec[state_dim:2*state_dim]\n",
    "        p_mf = qp_vec[2*state_dim:]\n",
    "\n",
    "        Beta_mfs =[]\n",
    "        Beta_ls=[]\n",
    "        alpha_mfs=[]\n",
    "        alpha_ls=[]\n",
    "\n",
    "        def Beta_j(self, q_mf, p_mf, u_mf, u_s, q_s_dot, q_mf_dot, p_mf_dot, q_s, p_l, j):\n",
    "            Beta_mf_j=[]\n",
    "            Beta_l_j=[]\n",
    "            H_mf_u = np.array([0]) # self.H_MF_u(q_mf, p_mf)\n",
    "            H_l_u = np.array([0]) # self.H_l_u(q_s, p_l)\n",
    "            lambda_l = 0\n",
    "            j=j-1 # indices start at 0 but control indices start at 1\n",
    "            for k in range(len(self.control_indices)):\n",
    "                # recall self.q_rhs_H_mf_u() returns a 2D np.array of size control_dim x state_dim, so self.q_rhs_H_mf_u()[k] is actually a 1D np.array\n",
    "                Beta_mf_k = H_mf_u[j]*(np.dot(self.q_rhs_H_mf_u(p_mf, q_mf, u_mf)[k], q_s_dot) + np.dot(self.p_rhs_H_mf_u(p_mf, q_mf, u_mf)[k], p_mf_dot)) + \\\n",
    "                            H_mf_u[k]*(np.dot(self.q_rhs_H_mf_u(p_mf, q_mf, u_mf)[j], q_s_dot) + np.dot(self.p_rhs_H_mf_u(p_mf, q_mf, u_mf)[j], p_mf_dot))\n",
    "                Beta_l_k = H_l_u[j]*(np.dot(self.q_rhs_H_l_u(q_s, p_l)[k], q_s_dot) + np.dot(self.p_rhs_H_l_u(q_s, p_l)[k], p_mf_dot)) + \\\n",
    "                           H_l_u[k]*(np.dot(self.q_rhs_H_l_u(q_s, p_l)[j], q_s_dot) + np.dot(self.p_rhs_H_l_u(q_s, p_l)[j], p_mf_dot))\n",
    "\n",
    "                Beta_mf_j.append(Beta_mf_k)\n",
    "                Beta_l_j.append(Beta_l_k)\n",
    "\n",
    "            #TODO: should Beta_mf_j be an array? for when we take the dot product?\n",
    "            return Beta_mf_j, Beta_l_j\n",
    "        \n",
    "#         def Beta_j(self, q_mf, p_mf, u_mf, u_s, q_s_dot, q_mf_dot, p_mf_dot, q_s, p_l, j):\n",
    "#             Beta_mf=[]\n",
    "#             Beta_l=[]\n",
    "#             H_mf_u = self.H_MF_u(q_mf, p_mf)\n",
    "#             H_l_u = self.H_l_u(q_s, p_l)\n",
    "#             lambda_l=0\n",
    "#             j=j-1 # indices start at 0 but control indices start at 1\n",
    "#             for k in range(len(self.control_indices)):\n",
    "#                 Beta_mf_k = H_mf_u[j]*(np.dot(self.q_rhs_H_mf_u(p_mf, q_mf, u_mf)[k], q_s_dot) + np.dot(self.p_rhs_H_mf_u(p_mf, q_mf, u_mf)[k], p_mf_dot)) + \\\n",
    "#                             H_mf_u[k]*(np.dot(self.q_rhs_H_mf_u(p_mf, q_mf, u_mf)[j], q_s_dot) + np.dot(self.p_rhs_H_mf_u(p_mf, q_mf, u_mf)[j], p_mf_dot))\n",
    "#                 Beta_l_k = H_l_u[j]*(np.dot(self.q_rhs_H_l_u(q_s, p_l)[k], q_s_dot) + np.dot(self.p_rhs_H_l_u(q_s, p_l)[k], p_mf_dot)) + \\\n",
    "#                            H_l_u[k]*(np.dot(self.q_rhs_H_l_u(q_s, p_l)[j], q_s_dot) + np.dot(self.p_rhs_H_l_u(q_s, p_l)[j], p_mf_dot))\n",
    "                    \n",
    "#                 Beta_mf.append(Beta_mf_k)\n",
    "#                 Beta_l.append(Beta_l_k)\n",
    "#             return Beta_mf, Beta_l\n",
    "                \n",
    "        def alpha_j(self, q_mf, p_mf, u_mf, u_s, q_s_dot, q_mf_dot, p_mf_dot, q_s, p_l, H_l_D, j):\n",
    "            alpha_mf = []\n",
    "            alpha_l = []\n",
    "            H_mf_u = self.H_MF_u(q_mf, p_mf)\n",
    "            H_l_u = self.H_l_u(q_s, p_l)\n",
    "            j=j-1\n",
    "            H_mf_nou = self.H_MF_nou(q_mf, p_mf, u_mf)\n",
    "            H_l_nou = self.H_l_nou(q_mf, p_mf, u_mf)\n",
    "            lambda_l=0\n",
    "            alpha_mf_j = H_mf_u[j]*(np.dot(self.q_rhs_H_mf_nou(p_mf, q_mf), q_s_dot) + np.dot(self.p_rhs_H_mf_nou(p_mf, q_mf), p_mf_dot)) +\\\n",
    "                            (H_mf_nou-H_l_D)*(np.dot(self.q_rhs_H_mf_u(p_mf, q_mf, u_mf)[j], q_s_dot) + np.dot(self.p_rhs_H_mf_u(p_mf, q_mf, u_mf)[j], p_mf_dot))\n",
    "\n",
    "            alpha_l_j = H_l_u[j]*(np.dot(self.q_rhs_H_l_nou(q_s, p_l, lambda_l), q_s_dot) + np.dot(self.p_rhs_H_l_nou(q_s, p_l, lambda_l), p_l_dot)) +\\\n",
    "                            (H_l_nou-H_l_D)*(np.dot(self.q_rhs_H_l_u(q_s, p_l)[j], q_s_dot) + np.dot(self.p_rhs_H_l_u(q_s, p_l)[j], p_l_dot))\n",
    "\n",
    "            return alpha_mf_j, alpha_l_j\n",
    "        \n",
    "        u_s_dot = np.array([])\n",
    "        for j in self.control_indices:\n",
    "            '''for each control, we need to:\n",
    "                1) Compute and get a 1D np.array for each of alpha_l_j, etc.\n",
    "                2) Compute u_s_dot_j = -1*self.Gamma*(self.gamma*(alpha_mf_j + np.dot(Beta_mf_j, u_s)) + (1-self.gamma)*(alpha_l_j + np.dot(Beta_l_j,u_s)))\n",
    "                3) Concatenate all of the u_s_dot_j to construct u_s_dot in a 1D np.array\n",
    "            '''\n",
    "            \n",
    "            Beta_mf_j, Beta_l_j = Beta_j(self, q_mf, p_mf, u_mf, u_s, q_s_dot, q_mf_dot, p_mf_dot, q_s, p_l, j)\n",
    "            alpha_mf_j, alpha_l_j = alpha_j(self, q_mf, p_mf, u_mf, u_s, q_s_dot, q_mf_dot, p_mf_dot, q_s, p_l, H_l_D, j)\n",
    "            # Beta_mf_j, Beta_l_j should be vectors\n",
    "            # alpha_mf_j, alpha_l_j should be scalars\n",
    "            u_s_dot_j = -1*self.Gamma*(self.gamma*(alpha_mf_j + np.dot(Beta_mf_j, u_s)) + (1-self.gamma)*(alpha_l_j + np.dot(Beta_l_j,u_s)))\n",
    "            u_s_dot=np.concatenate([u_s_dot, np.array([u_s_dot_j])])\n",
    "        \n",
    "        return u_s_dot\n",
    "\n",
    "\n",
    "    ## Mean Field methods\n",
    "    def H_MF_nou(self, q_mf, p_mf, u_mf):\n",
    "        return 1\n",
    "\n",
    "    def H_MF_u(self, q_mf, p_mf):\n",
    "        # q_mf, u_mf are vectors for ALL of the states, and controls\n",
    "        # retrns a numpy array with each element corresponding to H_mf for a particular control variable, j\n",
    "        return np.array([self.H_MF_u_1(q_mf, p_mf)]) #*u_mf[0]])  # + self.H_MF_u_2(q_mf, p_mf)*u_mf[1]\n",
    "\n",
    "    def H_MF_u_1(self, q_mf, p_mf):\n",
    "        return q_mf[0]*q_mf[1]\n",
    "    \n",
    "#     def H_MF_u_2(self, q_mf, p_mf):\n",
    "#         return q_mf[1]\n",
    "        \n",
    "    def qp_rhs_H_mf(self, q_mf, p_mf, u_mf, u_s):\n",
    "        # remember that we want to propagate as much as possible together in the same rhs function for numerical purposes\n",
    "        # remember that q_rhs here is w.r.t p_mf but p_rhs here is w.r.t q_s\n",
    "        q_H_mf_dot = self.p_rhs_H_mf(q_mf, p_mf, u_mf, u_s)\n",
    "        p_H_mf_dot = self.q_rhs_H_mf(q_mf, p_mf, u_mf, u_s)\n",
    "        return np.concatenate([q_H_mf_dot, p_H_mf_dot])\n",
    "    \n",
    "    def q_rhs_H_mf(self, q_mf, p_mf, u_mf, u_s):\n",
    "        # q_rhs_H_mf is the derivative wrt each of the local variables, so it will return something of dimension state_dim\n",
    "        # q_rhs_H_mf_u returns the partial derivatives wrt each control, concatenated together\n",
    "        q_rhs_H_mf_u = self.q_rhs_H_mf_u(q_mf, p_mf, u_mf)\n",
    "        assert np.shape(q_rhs_H_mf_u)==(len(self.control_indices), self.state_dim) # first dimension should be number of controls, inner dimension should be state_dim\n",
    "        q_rhs_H_mf_u_summed = sum([q_rhs_H_mf_u[i]*u_s[i] for i in range(len(u_s))])\n",
    "        return self.q_rhs_H_mf_nou(q_mf, p_mf) + q_rhs_H_mf_u_summed\n",
    "        \n",
    "    def q_rhs_H_mf_u(self, q_mf, p_mf, u_mf):\n",
    "        # this method is will return a concatenation of all of the partial derivatives for each of the controls\n",
    "        # each of the partial derivatives is of dimension state_dim\n",
    "        # this means that this method will return a 2D array:\n",
    "        #    - first dimension is the index of the control\n",
    "        #    - second dimension is the index of the state\n",
    "        p_H_mf_u_dot_1 = p_mf # must be of dimension state_dim\n",
    "        q_rhs_H_mf_u = np.array([p_H_mf_u_dot_1])\n",
    "        return q_rhs_H_mf_u\n",
    "\n",
    "    def p_rhs_H_mf(self, q_mf, p_mf, u_mf, u_s):\n",
    "        # q_rhs_H_mf is the derivative wrt each of the local variables, so it will return something of dimension state_dim\n",
    "        # q_rhs_H_mf_u returns the partial derivatives wrt each control, concatenated together\n",
    "        p_rhs_H_mf_u = self.p_rhs_H_mf_u(q_mf, p_mf, u_mf)\n",
    "        p_rhs_H_mf_u_summed = sum([p_rhs_H_mf_u[i]*u_s[i] for i in range(len(u_s))])\n",
    "        return self.p_rhs_H_mf_nou(q_mf, p_mf) + p_rhs_H_mf_u_summed\n",
    "        \n",
    "    def p_rhs_H_mf_nou(self, q_mf, p_mf):\n",
    "        return  p_mf # or something\n",
    "\n",
    "    def q_rhs_H_mf_nou(self, q_mf, p_mf):\n",
    "        return  p_mf\n",
    "\n",
    "    def p_rhs_H_mf_u(self, q_mf, p_mf, u_mf):\n",
    "        q_H_mf_u_dot = p_mf\n",
    "        return np.array([q_H_mf_u_dot])\n",
    "\n",
    "    def L_mf_q_dot(self, q_mf, q_mf_dot, u_mf):\n",
    "        # q_mf_dot, q_mf (inputs) here will be vectors with ALL of the states\n",
    "        # u_mf is a vector of ALL of the controls\n",
    "        # extract q_s from q_mf\n",
    "        \n",
    "        # note that these methods must return vectors that are of local dimension - state_dim - even though they take in vectors of dimension for all the states\n",
    "        # the user needs to be aware of the indices the correspond to each state\n",
    "\n",
    "        def L_l_q_dot_agent_1(q_mf, q_mf_dot, u_mf):\n",
    "            return np.concatenate([np.array([q_mf[0]]),np.array([q_mf[1]])])\n",
    "        \n",
    "        def L_l_q_dot_agent_2(q_mf, q_mf_dot, u_mf):\n",
    "            return np.concatenate([np.array([q_mf[0]]),np.array([q_mf[1]])])\n",
    "        \n",
    "        L_mf_total_q_dot = np.zeros(self.state_dim)\n",
    "\n",
    "        # agent 1\n",
    "        L_mf_total_q_dot += L_l_q_dot_agent_1(q_mf, q_mf_dot, u_mf)\n",
    "\n",
    "        # agent 2\n",
    "        L_mf_total_q_dot += L_l_q_dot_agent_2(q_mf, q_mf_dot, u_mf)\n",
    "\n",
    "        assert np.shape(L_mf_total_q_dot)[0] == self.state_dim, 'dimensions of L_mf_total_q_dot must match those of the local state, currently the dimensions are ' +str(np.shape(L_mf_total_q_dot)[0])\n",
    "        return L_mf_total_q_dot"
   ]
  },
  {
   "cell_type": "markdown",
   "metadata": {},
   "source": [
    "## Small test for two agents\n",
    "\n",
    "- Add agents to blackboard and meanfield\n",
    "- Run synchronizer to visit the agents"
   ]
  },
  {
   "cell_type": "code",
   "execution_count": 6,
   "metadata": {
    "collapsed": false
   },
   "outputs": [],
   "source": [
    "bb = Blackboard()\n",
    "# mean_field = MeanField()\n",
    "\n",
    "myAgent=Agent(bb, state_indices=[1], control_indices=[1])\n",
    "myAgent2=Agent2(bb, state_indices=[1,2], control_indices=[1])"
   ]
  },
  {
   "cell_type": "code",
   "execution_count": 7,
   "metadata": {
    "collapsed": false
   },
   "outputs": [],
   "source": [
    "bb.update_q_p_u_dict(myAgent)\n",
    "bb.update_q_p_u_dict(myAgent2)"
   ]
  },
  {
   "cell_type": "code",
   "execution_count": 8,
   "metadata": {
    "collapsed": false
   },
   "outputs": [],
   "source": [
    "q_p_u_dict = bb.q_p_u_dict"
   ]
  },
  {
   "cell_type": "code",
   "execution_count": 9,
   "metadata": {
    "collapsed": false
   },
   "outputs": [
    {
     "data": {
      "text/plain": [
       "{'p_l': {'1': 0, '2': 3},\n",
       " 'p_mf': {'1': 0, '2': 1},\n",
       " 'q_s': {'1': 0, '2': 2},\n",
       " 'q_s_dot': {'1': 0, '2': 1},\n",
       " 'u_s': {'1': 0}}"
      ]
     },
     "execution_count": 9,
     "metadata": {},
     "output_type": "execute_result"
    }
   ],
   "source": [
    "q_p_u_dict\n",
    "# this only tells us the values of each state/costate.  Does not tell us which ones correspond to which agent\n",
    "# state_indices attribute of each agent tells us which states pertain to the agent"
   ]
  },
  {
   "cell_type": "code",
   "execution_count": 10,
   "metadata": {
    "collapsed": false
   },
   "outputs": [],
   "source": [
    "agents = [myAgent, myAgent2]\n",
    "sync = Synchronizer(agents, bb)"
   ]
  },
  {
   "cell_type": "code",
   "execution_count": 11,
   "metadata": {
    "collapsed": false
   },
   "outputs": [
    {
     "name": "stdout",
     "output_type": "stream",
     "text": [
      "[[0. 2.]]\n",
      "[0. 2. 0. 2.]\n",
      "[0. 2.]\n"
     ]
    }
   ],
   "source": [
    "q_mf, q_mf_dot, u_mf = construct_mf_vectors(myAgent2)\n",
    "q_s, q_s_dot, u_s = construct_local_vectors(myAgent2)\n",
    "\n",
    "# this should return a 2-D array\n",
    "# then, for each of the arrays, we multiply by a scalar value of the control, and add them together.\n",
    "# So,  myAgent2.q_rhs_H_mf(q_mf, q_s, u_mf) should return something of dimension equal to state_dim\n",
    "print myAgent2.q_rhs_H_mf_u(q_mf, q_s, u_mf)\n",
    "\n",
    "print myAgent2.qp_rhs_H_mf(q_mf, q_s, u_mf, u_s) # this should return something of dimension state_dim*2\n",
    "print myAgent2.q_rhs_H_mf(q_mf, q_s, u_mf, u_s) # this should return something of dimension state_dim"
   ]
  },
  {
   "cell_type": "code",
   "execution_count": 12,
   "metadata": {
    "collapsed": false
   },
   "outputs": [
    {
     "name": "stdout",
     "output_type": "stream",
     "text": [
      "[[0. 2.]]\n",
      "[0. 2. 0. 2.]\n",
      "[0. 2.]\n"
     ]
    }
   ],
   "source": [
    "# this should return a 2-D array\n",
    "# then, for each of the arrays, we multiply by a scalar value of the control, and add them together.\n",
    "# So,  myAgent2.q_rhs_H_mf(q_mf, q_s, u_mf) should return something of dimension equal to state_dim\n",
    "print myAgent2.p_rhs_H_mf_u(q_mf, q_s, u_mf)\n",
    "\n",
    "print myAgent2.qp_rhs_H_mf(q_mf, q_s, u_mf, u_s) # this should return something of dimension state_dim*2\n",
    "print myAgent2.p_rhs_H_mf(q_mf, q_s, u_mf, u_s) # this should return something of dimension state_dim"
   ]
  },
  {
   "cell_type": "markdown",
   "metadata": {},
   "source": [
    "### Small test for update_q_mf"
   ]
  },
  {
   "cell_type": "code",
   "execution_count": 13,
   "metadata": {
    "collapsed": true
   },
   "outputs": [],
   "source": [
    "\n",
    "q_mf=np.array([1000,1000])\n",
    "q_mf = update_q_mf(q_mf, q_s, myAgent2)\n",
    "assert q_mf[0] == np.array([0]), 'something went wrong'\n",
    "assert q_mf[1] == np.array([2]), 'something went wrong'"
   ]
  },
  {
   "cell_type": "markdown",
   "metadata": {},
   "source": [
    "### Try a very small test"
   ]
  },
  {
   "cell_type": "markdown",
   "metadata": {
    "collapsed": true
   },
   "source": [
    "Steps to test qp_rhs and u_rhs:\n",
    "\n",
    "- Give some arbitrary initial conditions\n",
    "- create Agent\n",
    "- create Blackboard\n",
    "- create MeanField\n",
    "- connect those three things above.\n",
    "- somehow create a sliding window instance, or at least wrangle the Agent into a Sliding Window instance"
   ]
  },
  {
   "cell_type": "code",
   "execution_count": 14,
   "metadata": {
    "collapsed": false,
    "scrolled": false
   },
   "outputs": [],
   "source": [
    "# # forgot to pass in 'u_s' as a keyword argument\n",
    "# qpu_vec, q_ss_bar, p_ls_bar, p_mfs_bar, u_bar, q_ss, p_ls, p_mfs, us, window = propagate_dynamics(myAgent)\n",
    "# # forgot to pass in 'u_s' as a keyword argument\n",
    "# # qpu_vec2, q_ss_bar2, p_ls_bar2, p_mfs_bar2, u_bar2, q_ss2, p_ls2, p_mfs2, us2 = propagate_dynamics(myAgent2)"
   ]
  },
  {
   "cell_type": "code",
   "execution_count": 15,
   "metadata": {
    "collapsed": false
   },
   "outputs": [],
   "source": [
    "# print qpu_vec, q_ss_bar, p_ls_bar, p_mfs_bar, u_bar, q_ss, p_ls, p_mfs, us\n",
    "\n",
    "# # print qpu_vec2, q_ss_bar2, p_ls_bar2, p_mfs_bar2, u_bar2, q_ss2, p_ls2, p_mfs2, us2"
   ]
  },
  {
   "cell_type": "markdown",
   "metadata": {},
   "source": [
    "### Try another very small test\n",
    "\n",
    "- run propagation for Agent using multiple windows so we can test using initial values, etc.\n",
    "- and we can also test all of the methods for the agent rather than only the one for \n"
   ]
  },
  {
   "cell_type": "markdown",
   "metadata": {},
   "source": [
    "### Get sliding window working for multiple windows"
   ]
  },
  {
   "cell_type": "code",
   "execution_count": 16,
   "metadata": {
    "collapsed": true
   },
   "outputs": [],
   "source": [
    "# write helper function to take in sliding window, and q_p_u_dict, and return the q_s"
   ]
  },
  {
   "cell_type": "code",
   "execution_count": 17,
   "metadata": {
    "collapsed": false
   },
   "outputs": [
    {
     "data": {
      "text/plain": [
       "[('1', 0), ('2', 2)]"
      ]
     },
     "execution_count": 17,
     "metadata": {},
     "output_type": "execute_result"
    }
   ],
   "source": [
    "q_p_u_dict['q_s'].items()"
   ]
  },
  {
   "cell_type": "code",
   "execution_count": 18,
   "metadata": {
    "collapsed": false
   },
   "outputs": [
    {
     "data": {
      "text/plain": [
       "array([0, 0, 0, 0])"
      ]
     },
     "execution_count": 18,
     "metadata": {},
     "output_type": "execute_result"
    }
   ],
   "source": [
    "myAgent.qpu_vec"
   ]
  },
  {
   "cell_type": "code",
   "execution_count": 19,
   "metadata": {
    "collapsed": false
   },
   "outputs": [],
   "source": [
    "# q_ls_bars, p_ls_bars, p_mfs_bars, u_bars, windows = sliding_window(myAgent)"
   ]
  },
  {
   "cell_type": "code",
   "execution_count": 20,
   "metadata": {
    "collapsed": false
   },
   "outputs": [],
   "source": [
    "u_vec=np.array([0])\n",
    "u_0=np.array([0])\n",
    "qp_vec = np.array([0,0,0,0,0,0])\n",
    "q_s_dot=np.array([0,0])\n",
    "p_l_dot=np.array([0,0])\n",
    "p_mf_dot=np.array([0,0])\n",
    "q_mf_dot=np.array([0,0])\n",
    "q_mf=np.array([0,0])\n",
    "u_mf=np.array([0])\n",
    "H_l_D=1"
   ]
  },
  {
   "cell_type": "code",
   "execution_count": 21,
   "metadata": {
    "collapsed": false
   },
   "outputs": [
    {
     "data": {
      "text/plain": [
       "array([0.])"
      ]
     },
     "execution_count": 21,
     "metadata": {},
     "output_type": "execute_result"
    }
   ],
   "source": [
    "myAgent2.u_rhs(0.0, u_vec, state_dim=myAgent2.state_dim, Gamma = myAgent2.Gamma, qp_vec = qp_vec, u_0=u_0, \n",
    "               q_s_dot=q_s_dot, p_l_dot=p_l_dot, p_mf_dot=p_mf_dot, q_mf_dot=q_mf_dot, q_mf=q_mf, u_mf=u_mf, H_l_D=H_l_D)"
   ]
  },
  {
   "cell_type": "code",
   "execution_count": 22,
   "metadata": {
    "collapsed": false,
    "scrolled": false
   },
   "outputs": [
    {
     "name": "stderr",
     "output_type": "stream",
     "text": [
      "/Library/Frameworks/Python.framework/Versions/2.7/lib/python2.7/site-packages/ipykernel/__main__.py:290: RuntimeWarning: overflow encountered in multiply\n",
      "/Library/Frameworks/Python.framework/Versions/2.7/lib/python2.7/site-packages/ipykernel/__main__.py:273: RuntimeWarning: overflow encountered in multiply\n",
      "/Library/Frameworks/Python.framework/Versions/2.7/lib/python2.7/site-packages/ipykernel/__main__.py:95: RuntimeWarning: overflow encountered in multiply\n",
      "/Library/Frameworks/Python.framework/Versions/2.7/lib/python2.7/site-packages/ipykernel/__main__.py:74: RuntimeWarning: overflow encountered in multiply\n",
      "/Library/Frameworks/Python.framework/Versions/2.7/lib/python2.7/site-packages/ipykernel/__main__.py:153: RuntimeWarning: invalid value encountered in multiply\n",
      "ode.py:107: RuntimeWarning: invalid value encountered in subtract\n",
      "  R = abs((-5.0*k1+6.0*k2+8.0*k3-9.0*k4)*hStep)/72.0\n",
      "ode.py:107: RuntimeWarning: invalid value encountered in add\n",
      "  R = abs((-5.0*k1+6.0*k2+8.0*k3-9.0*k4)*hStep)/72.0\n"
     ]
    }
   ],
   "source": [
    "qpu_vec, q_ls_bar, p_ls_bar, p_mfs_bar, u_bar, q_ls, p_ls, p_mfs, us, q_ls_dot_bar, p_ls_dot_bar, p_mfs_dot_bar, p_mfs_dot_bar, u_dot_bar, window = propagate_dynamics(myAgent2)"
   ]
  },
  {
   "cell_type": "code",
   "execution_count": 23,
   "metadata": {
    "collapsed": false
   },
   "outputs": [
    {
     "data": {
      "text/plain": [
       "array([0.00000000e+00,            nan, 0.00000000e+00,            nan,\n",
       "       0.00000000e+00,            inf, 1.79437304e+95])"
      ]
     },
     "execution_count": 23,
     "metadata": {},
     "output_type": "execute_result"
    }
   ],
   "source": [
    "qpu_vec"
   ]
  },
  {
   "cell_type": "code",
   "execution_count": 24,
   "metadata": {
    "collapsed": false
   },
   "outputs": [
    {
     "data": {
      "text/plain": [
       "array([ 0., nan])"
      ]
     },
     "execution_count": 24,
     "metadata": {},
     "output_type": "execute_result"
    }
   ],
   "source": [
    "q_ls_bar"
   ]
  },
  {
   "cell_type": "code",
   "execution_count": 25,
   "metadata": {
    "collapsed": false
   },
   "outputs": [
    {
     "data": {
      "text/plain": [
       "array([ 0., inf])"
      ]
     },
     "execution_count": 25,
     "metadata": {},
     "output_type": "execute_result"
    }
   ],
   "source": [
    "p_mfs_dot_bar"
   ]
  },
  {
   "cell_type": "code",
   "execution_count": 26,
   "metadata": {
    "collapsed": false
   },
   "outputs": [
    {
     "data": {
      "text/plain": [
       "[1]"
      ]
     },
     "execution_count": 26,
     "metadata": {},
     "output_type": "execute_result"
    }
   ],
   "source": [
    "myAgent2.control_indices"
   ]
  },
  {
   "cell_type": "code",
   "execution_count": 27,
   "metadata": {
    "collapsed": false
   },
   "outputs": [
    {
     "name": "stdout",
     "output_type": "stream",
     "text": [
      "order is q_s, p_l, p_mf, u_s\n"
     ]
    },
    {
     "data": {
      "text/plain": [
       "7"
      ]
     },
     "execution_count": 27,
     "metadata": {},
     "output_type": "execute_result"
    }
   ],
   "source": [
    "print 'order is q_s, p_l, p_mf, u_s'\n",
    "2+2+2+1"
   ]
  },
  {
   "cell_type": "code",
   "execution_count": 28,
   "metadata": {
    "collapsed": false
   },
   "outputs": [],
   "source": [
    "# print qpu_vec2, q_ss_bar2, p_ls_bar2, p_mfs_bar2, u_bar2, q_ss2, p_ls2, p_mfs2, us2, window"
   ]
  },
  {
   "cell_type": "code",
   "execution_count": 29,
   "metadata": {
    "collapsed": false
   },
   "outputs": [
    {
     "data": {
      "text/plain": [
       "array([0, 0, 0, 0, 0, 0])"
      ]
     },
     "execution_count": 29,
     "metadata": {},
     "output_type": "execute_result"
    }
   ],
   "source": [
    "myAgent2.qp_rhs(0.0, qp_vec, state_dim=myAgent2.state_dim, Gamma = myAgent2.Gamma, u_0=u_0, q_mf=q_mf, u_mf=u_mf)"
   ]
  },
  {
   "cell_type": "code",
   "execution_count": 30,
   "metadata": {
    "collapsed": false
   },
   "outputs": [
    {
     "name": "stdout",
     "output_type": "stream",
     "text": [
      "([array([0., 0., 0., 0., 0., 0.]), array([0., 0., 0., 0., 0., 0.])], [array([ 0.,  0., -0., -0.,  0.,  0.]), array([ 0.,  0., -0., -0.,  0.,  0.])])\n"
     ]
    }
   ],
   "source": [
    "# TODO:  these should not both work, right?  myAgent and myAgent2 have different state dimensions\n",
    "qpu_vec = np.array([0,0,0,0,0,0,0])\n",
    "# qpu_vec = [0]\n",
    "qpu_vec = [0,0,0,0,0,0,0]\n",
    "# print propagate_q_p(qpu_vec, 0,1 , myAgent, q_mf, u_mf)\n",
    "print propagate_q_p(qpu_vec, 0,1 , myAgent2, q_mf, u_mf)"
   ]
  },
  {
   "cell_type": "code",
   "execution_count": 31,
   "metadata": {
    "collapsed": false
   },
   "outputs": [],
   "source": [
    "# sync.synchronize()"
   ]
  },
  {
   "cell_type": "code",
   "execution_count": null,
   "metadata": {
    "collapsed": true
   },
   "outputs": [],
   "source": []
  }
 ],
 "metadata": {
  "kernelspec": {
   "display_name": "Python 2",
   "language": "python",
   "name": "python2"
  },
  "language_info": {
   "codemirror_mode": {
    "name": "ipython",
    "version": 2
   },
   "file_extension": ".py",
   "mimetype": "text/x-python",
   "name": "python",
   "nbconvert_exporter": "python",
   "pygments_lexer": "ipython2",
   "version": "2.7.12rc1"
  }
 },
 "nbformat": 4,
 "nbformat_minor": 1
}
