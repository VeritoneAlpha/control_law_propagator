{
 "cells": [
  {
   "cell_type": "markdown",
   "metadata": {},
   "source": [
    "This is v2 of the control law propagator.\n",
    "\n",
    "The major update to the CLP is that there is an extra loop for propagation; Inside a single bucket, use a fixed step size and hold u constant while we propagate q and p.  Then, using those values for p and q, propagate u.\n",
    "\n",
    "There will be three main modules:\n",
    "\n",
    "- 1) Propagator\n",
    "\n",
    "- 2) sliding window\n",
    "\n",
    "- 3) window filter"
   ]
  },
  {
   "cell_type": "code",
   "execution_count": 29,
   "metadata": {
    "collapsed": false
   },
   "outputs": [],
   "source": [
    "import numpy as np\n",
    "import scipy as sp\n",
    "import ode"
   ]
  },
  {
   "cell_type": "code",
   "execution_count": 30,
   "metadata": {
    "collapsed": true
   },
   "outputs": [],
   "source": [
    "# Inputs:\n",
    "q_0 = np.array([0])\n",
    "p_0 = np.array([0])\n",
    "u_0 = np.array([0])\n",
    "qpu_vec = np.concatenate([q_0, p_0, u_0])\n",
    "\n",
    "t_0 = 0\n",
    "T =  2\n",
    "K=1\n",
    "\n",
    "n_s = 10\n",
    "integrateTol = 10**-3\n",
    "integrateMaxIter = 40\n",
    "state_dim = 1\n",
    "Gamma = 1"
   ]
  },
  {
   "cell_type": "code",
   "execution_count": 3,
   "metadata": {
    "collapsed": false
   },
   "outputs": [],
   "source": [
    "def H_T_p(q,p,u):\n",
    "    # for q-dot\n",
    "    return np.ones(np.shape(q))*0\n",
    "\n",
    "def H_T_q(q,p,u):\n",
    "    # for p-dot\n",
    "    return np.ones(np.shape(p))*0\n",
    "    \n",
    "def Q_u(q,p,u):\n",
    "    # for u-dot\n",
    "    return np.ones(np.shape(u))*0\n",
    "    "
   ]
  },
  {
   "cell_type": "code",
   "execution_count": 4,
   "metadata": {
    "collapsed": true
   },
   "outputs": [],
   "source": [
    "def rhs(t, qpu_vec, **kwargs):\n",
    "    # TODO: make sure that the functions that this calls are available\n",
    "    state_dim = kwargs['state_dim']\n",
    "    Gamma = kwargs['Gamma']\n",
    "    q = qpu_vec[:state_dim]\n",
    "    p = qpu_vec[state_dim:2*state_dim]\n",
    "    u = qpu_vec[2*state_dim:]\n",
    "    q_dot =  H_T_p(q,p,u)\n",
    "    p_dot = -1*H_T_q(q,p,u)\n",
    "    u_dot = -Gamma*Q_u(q,p,u)\n",
    "    return np.hstack([q_dot, p_dot, u_dot])"
   ]
  },
  {
   "cell_type": "code",
   "execution_count": 5,
   "metadata": {
    "collapsed": false
   },
   "outputs": [],
   "source": [
    "def propagate_dynamics(t_0, T, K, qpu_vec, integrateTol, integrateMaxIter, state_dim, Gamma, n_s, sliding_window_instance):\n",
    "    '''\n",
    "    n_s is number of steps\n",
    "    '''\n",
    "    qs=[]\n",
    "    ps=[]\n",
    "    us=[]\n",
    "\n",
    "    ts = range(t_0,T+1,(T-t_0)/(2*K))  # go until T+1 because last value will be used as starting point for next window\n",
    "\n",
    "    for i in range(len(ts)-1):\n",
    "        # starting value of u for a single bucket\n",
    "        t_start, t_end = ts[i], ts[i+1]\n",
    "        q_0 = qpu_vec[:state_dim]\n",
    "        p_0 = qpu_vec[state_dim:2*state_dim]\n",
    "        u_0 = qpu_vec[2*state_dim:]\n",
    "        qp_vecs = propagate_q_p(u_0, q_0, p_0, t_start, t_end, n_s, sliding_window_instance)  # assume \"u\" constant, and propagate q and p\n",
    "        u_vecs = propagate_u(u_0, qp_vecs, t_start, t_end, n_s, sliding_window_instance)      # pass in the resulting q and p values to be used for propagating the \"u\"\n",
    "        \n",
    "        qpu_vec_i = np.hstack([qp_vecs, u_vecs])\n",
    "        qpu_vec = qpu_vec_i[-1] # only need the last value\n",
    "        if i == len(ts)-2:\n",
    "            pass\n",
    "            # no need to append since weight = 0 for last value.  But qpu_vec still needs to be updated.\n",
    "        else:\n",
    "            qs.append(qpu_vec[:state_dim])\n",
    "            ps.append(qpu_vec[state_dim:2*state_dim])\n",
    "            us.append(qpu_vec[2*state_dim:])\n",
    "    return qpu_vec, qs, ps, us  # return values for one entire window\n",
    "\n",
    "    \n",
    "def propagate_q_p(q_0, p_0, u_0, t_start, t_end, n_s, sliding_window_instance):\n",
    "    '''\n",
    "    Propagate q and p to end of bucket using rk23\n",
    "    '''\n",
    "    qp_vecs = []\n",
    "    qp_vec = [q_0, p_0]  # pass in all three: q_0, p_0, u_0, but in the qp_rhs function\n",
    "    steps = np.linspace(t_start,t_end, n_s+1)\n",
    "    for i in range(n_s):\n",
    "        n_start, n_end = steps[i], steps[i+1]\n",
    "        qp_vec, t, failFlag, iter_i = ode.ode_rk23(sliding_window_instance.qp_rhs, n_start, n_end, qp_vec, integrateTol, integrateMaxIter, state_dim=state_dim, Gamma = Gamma, u_0 = u_0)\n",
    "        qp_vecs.append(qp_vec[-1])\n",
    "    return qp_vecs\n",
    "    \n",
    "    \n",
    "def propagate_u(u_0, qp_vecs, t_start, t_end, n_s, sliding_window_instance):\n",
    "    '''\n",
    "    Propagate u based on q and p values\n",
    "    u_vecs (list of 1-D numpy arrays):\n",
    "    '''\n",
    "    u_vecs = []\n",
    "    u_vec = u_0\n",
    "    steps = np.linspace(t_start,t_end, n_s+1)\n",
    "    for i in range(n_s):\n",
    "        n_start, n_end = steps[i], steps[i+1]\n",
    "        qp_vec = qp_vecs[i]\n",
    "        u_vec, t, failFlag, iter_i = ode.ode_rk23(sliding_window_instance.u_rhs, n_start, n_end, u_vec, integrateTol, integrateMaxIter, state_dim=state_dim, Gamma = Gamma, qp_vec = qp_vec)\n",
    "        u_vecs.append(u_vec[-1]) # one u_vec for each step, append them and you have all the u_vecs for one bucket\n",
    "    return u_vecs\n",
    "        "
   ]
  },
  {
   "cell_type": "code",
   "execution_count": 20,
   "metadata": {
    "collapsed": false
   },
   "outputs": [],
   "source": [
    "a=np.array([3,2,4])"
   ]
  },
  {
   "cell_type": "code",
   "execution_count": 21,
   "metadata": {
    "collapsed": false
   },
   "outputs": [],
   "source": [
    "b = np.array([1,3,2])"
   ]
  },
  {
   "cell_type": "code",
   "execution_count": 23,
   "metadata": {
    "collapsed": false
   },
   "outputs": [
    {
     "data": {
      "text/plain": [
       "array([3, 2, 4, 1, 3, 2])"
      ]
     },
     "execution_count": 23,
     "metadata": {},
     "output_type": "execute_result"
    }
   ],
   "source": [
    "np.concatenate([a,b])"
   ]
  },
  {
   "cell_type": "code",
   "execution_count": 6,
   "metadata": {
    "collapsed": false
   },
   "outputs": [
    {
     "ename": "NameError",
     "evalue": "name 'stop' is not defined",
     "output_type": "error",
     "traceback": [
      "\u001b[0;31m---------------------------------------------------------------------------\u001b[0m",
      "\u001b[0;31mNameError\u001b[0m                                 Traceback (most recent call last)",
      "\u001b[0;32m<ipython-input-6-86c4545cc7bb>\u001b[0m in \u001b[0;36m<module>\u001b[0;34m()\u001b[0m\n\u001b[0;32m----> 1\u001b[0;31m \u001b[0;32mprint\u001b[0m \u001b[0mstop\u001b[0m\u001b[0;34m\u001b[0m\u001b[0m\n\u001b[0m",
      "\u001b[0;31mNameError\u001b[0m: name 'stop' is not defined"
     ]
    }
   ],
   "source": [
    "print stop"
   ]
  },
  {
   "cell_type": "code",
   "execution_count": 7,
   "metadata": {
    "collapsed": false
   },
   "outputs": [
    {
     "data": {
      "text/plain": [
       "1"
      ]
     },
     "execution_count": 7,
     "metadata": {},
     "output_type": "execute_result"
    }
   ],
   "source": [
    "state_dim"
   ]
  },
  {
   "cell_type": "code",
   "execution_count": 10,
   "metadata": {
    "collapsed": false
   },
   "outputs": [
    {
     "data": {
      "text/plain": [
       "array([0, 0, 0])"
      ]
     },
     "execution_count": 10,
     "metadata": {},
     "output_type": "execute_result"
    }
   ],
   "source": [
    "qpu_vec # 1 array which contains state, costate"
   ]
  },
  {
   "cell_type": "markdown",
   "metadata": {},
   "source": [
    "#### Test the propagation"
   ]
  },
  {
   "cell_type": "code",
   "execution_count": 13,
   "metadata": {
    "collapsed": false
   },
   "outputs": [],
   "source": [
    "q_0\n",
    "p_0\n",
    "u_0\n",
    "t_start\n",
    "t_end\n",
    "n_s\n",
    "sliding_window_instance\n",
    "\n",
    "qp_vecs =  propagate_q_p(q_0, p_0, u_0, t_start, t_end, n_s, sliding_window_instance)\n",
    "\n"
   ]
  },
  {
   "cell_type": "code",
   "execution_count": 31,
   "metadata": {
    "collapsed": false
   },
   "outputs": [
    {
     "ename": "NameError",
     "evalue": "name 'qp_vecs' is not defined",
     "output_type": "error",
     "traceback": [
      "\u001b[0;31m---------------------------------------------------------------------------\u001b[0m",
      "\u001b[0;31mNameError\u001b[0m                                 Traceback (most recent call last)",
      "\u001b[0;32m<ipython-input-31-4cf5b43d83b5>\u001b[0m in \u001b[0;36m<module>\u001b[0;34m()\u001b[0m\n\u001b[1;32m      1\u001b[0m \u001b[0mu_0\u001b[0m\u001b[0;34m\u001b[0m\u001b[0m\n\u001b[0;32m----> 2\u001b[0;31m \u001b[0mqp_vecs\u001b[0m\u001b[0;34m\u001b[0m\u001b[0m\n\u001b[0m\u001b[1;32m      3\u001b[0m \u001b[0mt_start\u001b[0m\u001b[0;34m\u001b[0m\u001b[0m\n\u001b[1;32m      4\u001b[0m \u001b[0mt_end\u001b[0m\u001b[0;34m\u001b[0m\u001b[0m\n\u001b[1;32m      5\u001b[0m \u001b[0mn_s\u001b[0m\u001b[0;34m\u001b[0m\u001b[0m\n",
      "\u001b[0;31mNameError\u001b[0m: name 'qp_vecs' is not defined"
     ]
    }
   ],
   "source": [
    "u_0\n",
    "qp_vecs\n",
    "t_start\n",
    "t_end\n",
    "n_s\n",
    "sliding_window_instance\n",
    "u_vecs = propagate_u(u_0, qp_vecs, t_start, t_end, n_s, sliding_window_instance)        "
   ]
  },
  {
   "cell_type": "code",
   "execution_count": 11,
   "metadata": {
    "collapsed": false
   },
   "outputs": [
    {
     "data": {
      "text/plain": [
       "array([0, 0, 0])"
      ]
     },
     "execution_count": 11,
     "metadata": {},
     "output_type": "execute_result"
    }
   ],
   "source": [
    "qpu_vec"
   ]
  },
  {
   "cell_type": "markdown",
   "metadata": {},
   "source": [
    "### Triangle window filter"
   ]
  },
  {
   "cell_type": "code",
   "execution_count": null,
   "metadata": {
    "collapsed": false
   },
   "outputs": [],
   "source": [
    "def get_weights(K):\n",
    "    weights_0 = [float(i)/K for i in range(1,K+1)]  \n",
    "    weights_1 = [2-(float(i)/K) for i in range(K+1,(2*K)+1)]\n",
    "    # sanity check \n",
    "    assert len(weights_0)==len(weights_1)\n",
    "    weights = weights_0+weights_1\n",
    "    weights_total = sum(weights[:-1])\n",
    "    return weights, weights_total"
   ]
  },
  {
   "cell_type": "code",
   "execution_count": null,
   "metadata": {
    "collapsed": false
   },
   "outputs": [],
   "source": [
    "def apply_filter(vec, weights, weights_total):\n",
    "    vec_weighted = [val*w for val,w in zip(vec, weights[:-1])]\n",
    "    vec_current = np.sum(vec_weighted,0)\n",
    "    vec_normalized = vec_current/float(weights_total)\n",
    "    return vec_normalized\n",
    "\n",
    "weights, weights_total = get_weights(K)\n",
    "q_bar = apply_filter(qs,weights, weights_total)\n",
    "p_bar = apply_filter(ps,weights, weights_total)\n",
    "u_bar = apply_filter(us,weights, weights_total)"
   ]
  },
  {
   "cell_type": "code",
   "execution_count": null,
   "metadata": {
    "collapsed": false
   },
   "outputs": [],
   "source": [
    "# outputs:\n",
    "\n",
    "print q_bar\n",
    "print p_bar\n",
    "print u_bar\n",
    "\n",
    "print qs\n",
    "print ps\n",
    "print us"
   ]
  },
  {
   "cell_type": "markdown",
   "metadata": {},
   "source": [
    "### Sliding window (outer loop)"
   ]
  },
  {
   "cell_type": "code",
   "execution_count": null,
   "metadata": {
    "collapsed": true
   },
   "outputs": [],
   "source": [
    "# additional inputs \n",
    "t_terminal = 100"
   ]
  },
  {
   "cell_type": "code",
   "execution_count": null,
   "metadata": {
    "collapsed": true
   },
   "outputs": [],
   "source": [
    "def sliding_window(t_0, T, K, q_0, p_0, u_0, state_dim, Gamma, t_terminal):\n",
    "    q_bars = []\n",
    "    p_bars = []\n",
    "    u_bars = []\n",
    "    weights, weights_total = get_weights(K)\n",
    "    t=t_0 # wall clock time\n",
    "    qpu_vec = np.hstack([q_0, p_0, u_0])\n",
    "    while t<t_terminal:\n",
    "        \n",
    "        qpu_vec, qs, ps, us = propagate_dynamics(t_0, T, K, qpu_vec, integrateTol, integrateMaxIter, state_dim, Gamma)\n",
    "        # qs, ps, and us will go to Mean Field somehow\n",
    "\n",
    "        q_bar = apply_filter(qs,weights, weights_total)\n",
    "        p_bar = apply_filter(ps,weights, weights_total)\n",
    "        u_bar = apply_filter(us,weights, weights_total)\n",
    "        \n",
    "        t+=1\n",
    "        \n",
    "        q_bars.append(q_bar)\n",
    "        p_bars.append(p_bar)\n",
    "        u_bars.append(u_bar)\n",
    "\n",
    "    return q_bars, p_bars, u_bars"
   ]
  },
  {
   "cell_type": "code",
   "execution_count": null,
   "metadata": {
    "collapsed": false
   },
   "outputs": [],
   "source": [
    "q_bars, p_bars, u_bars = sliding_window(t_0, T, K, q_0, p_0, u_0, state_dim, Gamma, t_terminal)"
   ]
  },
  {
   "cell_type": "code",
   "execution_count": null,
   "metadata": {
    "collapsed": true
   },
   "outputs": [],
   "source": []
  }
 ],
 "metadata": {
  "kernelspec": {
   "display_name": "Python 2",
   "language": "python",
   "name": "python2"
  },
  "language_info": {
   "codemirror_mode": {
    "name": "ipython",
    "version": 2
   },
   "file_extension": ".py",
   "mimetype": "text/x-python",
   "name": "python",
   "nbconvert_exporter": "python",
   "pygments_lexer": "ipython2",
   "version": "2.7.12rc1"
  }
 },
 "nbformat": 4,
 "nbformat_minor": 1
}
