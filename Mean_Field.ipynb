{
 "cells": [
  {
   "cell_type": "markdown",
   "metadata": {},
   "source": [
    "This is the prototype of the Mean Field\n",
    "\n",
    "There will be three main modules:\n",
    "\n",
    "- 1) Agent\n",
    "\n",
    "- 2) MeanField\n",
    "\n",
    "- 3) BlackBoard"
   ]
  },
  {
   "cell_type": "code",
   "execution_count": 6,
   "metadata": {
    "collapsed": false
   },
   "outputs": [],
   "source": [
    "import numpy as np\n",
    "import scipy as sp\n",
    "import ode\n",
    "from sliding_window import *"
   ]
  },
  {
   "cell_type": "markdown",
   "metadata": {},
   "source": [
    "### Agent"
   ]
  },
  {
   "cell_type": "code",
   "execution_count": 7,
   "metadata": {
    "collapsed": false
   },
   "outputs": [],
   "source": [
    "class Agent:\n",
    "    \n",
    "    def L_l(self, q, q_dot, u):\n",
    "        return\n",
    "    \n",
    "    def L_l_q_dot(self, t, q, q_dot, u, **kwargs):\n",
    "        return \n",
    "    \n",
    "    def H_l_nou(self, q, p, lambda_l):\n",
    "        return \n",
    "\n",
    "    def qp_rhs_l_nou(self, t, qp_vec, **kwargs):\n",
    "        dim = len(qp_vec)/4\n",
    "        q = qp_vec[:dim]\n",
    "        p = qp_vec[dim:2*dim]\n",
    "        q_D = qp_vec[2*dim:3*dim]\n",
    "        p_D = qp_vec[3*dim:]\n",
    "        u = kwargs['u_0']\n",
    "        # for q-dot\n",
    "        q_dot =  np.zeros(np.shape(p))\n",
    "        # for p-dot\n",
    "        p_dot =  np.zeros(np.shape(q))\n",
    "        q_D_dot =  np.zeros(np.shape(p))\n",
    "        p_D_dot =  np.zeros(np.shape(q))\n",
    "        return np.concatenate([q_dot, p_dot, q_D_dot, p_D_dot])\n",
    "       \n",
    "    def u_rhs_l_nou(self, t, u_vec, **kwargs):\n",
    "        qp_vec = kwargs['qp_vec']\n",
    "        dim = len(qp_vec)/4\n",
    "        q = qp_vec[:dim]\n",
    "        p = qp_vec[dim:2*dim]\n",
    "        q_D = qp_vec[2*dim:3*dim]\n",
    "        p_D = qp_vec[3*dim:]\n",
    "        Gamma = kwargs['Gamma']\n",
    "        # for u-dot\n",
    "        return -1*Gamma*np.zeros(np.shape(u_vec))\n",
    "\n",
    "    def H_l_u(self, q, p, u):\n",
    "        return \n",
    "    \n",
    "    def qp_rhs_l_u(self, t, qp_vec, **kwargs):\n",
    "        dim = len(qp_vec)/4\n",
    "        q = qp_vec[:dim]\n",
    "        p = qp_vec[dim:2*dim]\n",
    "        q_D = qp_vec[2*dim:3*dim]\n",
    "        p_D = qp_vec[3*dim:]\n",
    "        u = kwargs['u_0']\n",
    "        # for q-dot\n",
    "        q_dot =  np.zeros(np.shape(p))\n",
    "        # for p-dot\n",
    "        p_dot =  np.zeros(np.shape(q))\n",
    "        q_D_dot =  np.zeros(np.shape(p))\n",
    "        p_D_dot =  np.zeros(np.shape(q))\n",
    "        return np.concatenate([q_dot, p_dot, q_D_dot, p_D_dot])\n",
    "       \n",
    "    def u_rhs_l_u(self, t, u_vec, **kwargs):\n",
    "        qp_vec = kwargs['qp_vec']\n",
    "        dim = len(qp_vec)/4\n",
    "        q = qp_vec[:dim]\n",
    "        p = qp_vec[dim:2*dim]\n",
    "        q_D = qp_vec[2*dim:3*dim]\n",
    "        p_D = qp_vec[3*dim:]\n",
    "        Gamma = kwargs['Gamma']\n",
    "        # for u-dot\n",
    "        return -1*Gamma*np.zeros(np.shape(u_vec))\n",
    "\n",
    "    def qp_rhs_H_s(self, t, qp_vec, **kwargs):\n",
    "        # This will include a term for qp_rhs_l and a term for qp_rhs_MF: \n",
    "        qp_vec\n",
    "        qp_rhs_H_s = (1-alpha)*qp_rhs_l(self, qp_vec)+alpha*qp_rhs_MF()\n",
    "        return np.concatenate([q_dot, p_dot, q_D_dot, p_D_dot])\n",
    "       \n",
    "    def u_rhs_H_s(self, t, u_vec, **kwargs):\n",
    "        return np.concatenate([q_dot, p_dot, q_D_dot, p_D_dot])\n",
    "        Gamma = kwargs['Gamma']\n",
    "        # for u-dot\n",
    "        return -1*Gamma*np.zeros(np.shape(u_vec))\n",
    "\n",
    "    def H_l_D():\n",
    "        pass\n",
    "        \n",
    "    def L_l_D():\n",
    "        pass\n",
    "        \n",
    "    def L_l_D_q_Dot():\n",
    "        pass\n",
    "    # Inputs for numerical propagator\n",
    "    q_0 = np.array([0])\n",
    "    p_0 = np.array([0])\n",
    "    q_D = np.array([0])\n",
    "    p_D = np.array([0])\n",
    "    u_0 = np.array([0])\n",
    "    qpu_vec = np.hstack([q_0, p_0, q_D, p_D, u_0])\n",
    "    state_dim = 1 \n",
    "    Gamma = 1 \n",
    "       \n",
    "    # Inputs for numerical integration\n",
    "    integrateTol = 10**-3\n",
    "    integrateMaxIter = 40\n",
    "       \n",
    "    # Inputs for sliding window\n",
    "    t_0 = 0 \n",
    "    T =  2\n",
    "    K=1 \n",
    "    t_terminal = 2 \n",
    "    n_s = 10\n",
    "\n"
   ]
  },
  {
   "cell_type": "markdown",
   "metadata": {},
   "source": [
    "### MeanField"
   ]
  },
  {
   "cell_type": "code",
   "execution_count": 8,
   "metadata": {
    "collapsed": false
   },
   "outputs": [
    {
     "ename": "IndentationError",
     "evalue": "expected an indented block (<ipython-input-8-7f3eedecd191>, line 5)",
     "output_type": "error",
     "traceback": [
      "\u001b[0;36m  File \u001b[0;32m\"<ipython-input-8-7f3eedecd191>\"\u001b[0;36m, line \u001b[0;32m5\u001b[0m\n\u001b[0;31m    \u001b[0m\n\u001b[0m    ^\u001b[0m\n\u001b[0;31mIndentationError\u001b[0m\u001b[0;31m:\u001b[0m expected an indented block\n"
     ]
    }
   ],
   "source": [
    "class MeanField:\n",
    "    \n",
    "    def __init__(self):\n",
    "        pass\n",
    "    \n",
    "    def H_MF_nou(self, q, p):\n",
    "        pass\n",
    "        \n",
    "    def qp_rhs_H_MF_nou(self, t, qp_vec, **kwargs):\n",
    "        pass\n",
    "\n",
    "    def H_MF_u(self, q, p):\n",
    "        pass\n",
    "        \n",
    "    def qp_rhs_H_MF_u(self, t, qp_vec, **kwargs):\n",
    "        pass\n",
    "          "
   ]
  },
  {
   "cell_type": "code",
   "execution_count": null,
   "metadata": {
    "collapsed": true
   },
   "outputs": [],
   "source": []
  }
 ],
 "metadata": {
  "kernelspec": {
   "display_name": "Python 2",
   "language": "python",
   "name": "python2"
  },
  "language_info": {
   "codemirror_mode": {
    "name": "ipython",
    "version": 2
   },
   "file_extension": ".py",
   "mimetype": "text/x-python",
   "name": "python",
   "nbconvert_exporter": "python",
   "pygments_lexer": "ipython2",
   "version": "2.7.12rc1"
  }
 },
 "nbformat": 4,
 "nbformat_minor": 1
}
